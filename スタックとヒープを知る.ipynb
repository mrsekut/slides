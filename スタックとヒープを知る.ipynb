{
 "cells": [
  {
   "cell_type": "markdown",
   "metadata": {
    "slideshow": {
     "slide_type": "slide"
    }
   },
   "source": [
    "# スタックとヒープを知る\n",
    "\n",
    "- 2018/10/11 勉強会"
   ]
  },
  {
   "cell_type": "markdown",
   "metadata": {
    "slideshow": {
     "slide_type": "slide"
    }
   },
   "source": [
    "# アジェンダ\n",
    "\n",
    "1. 調べようと思ったきっかけ\n",
    "1. メモリ領域概観\n",
    "2. スタックについて\n",
    "3. ヒープについて\n",
    "4. まとめ\n",
    "5. 参考"
   ]
  },
  {
   "cell_type": "markdown",
   "metadata": {
    "slideshow": {
     "slide_type": "slide"
    }
   },
   "source": [
    "# 調べようと思ったきっかけ\n",
    "\n",
    "- スタックとヒープわかってないとRustわけわかめになる"
   ]
  },
  {
   "cell_type": "markdown",
   "metadata": {
    "slideshow": {
     "slide_type": "slide"
    }
   },
   "source": [
    "# メモリについて\n",
    "\n",
    "- メモリは1Byte(8bit)ごとにアドレスが振られている\n",
    "- 実行ファイルにコンパイルすると変数名はアドレス値に変換される\n",
    "    - アドレス値は16進数\n",
    "- 1つのプロセスは1つのメモリ空間と複数のスレッドを持つ\n",
    "- 1つのスレッドは１つの連続したメモリ領域のスタックを持つ"
   ]
  },
  {
   "cell_type": "markdown",
   "metadata": {
    "slideshow": {
     "slide_type": "slide"
    }
   },
   "source": [
    "# メモリ領域概観\n",
    "\n",
    "- メモリ領域の「サイズ」はビルド時に決定する\n",
    "- スタックとヒープに格納されるデータは動的に決まるので実行するまでどこを使うか決まらない\n",
    "    - だから、下3つ以外の部分を上下両端から格納していく\n",
    "\n",
    "![](https://he-s3.s3.amazonaws.com/media/uploads/383f472.png)"
   ]
  },
  {
   "cell_type": "markdown",
   "metadata": {
    "slideshow": {
     "slide_type": "subslide"
    }
   },
   "source": [
    "## 5つのメモリ領域\n",
    "\n",
    "- 置かれるアドレスが\n",
    "    - 実行時に決まるものが「動的」\n",
    "    - コンパイル時に決まるものが「静的」\n",
    "\n",
    "---\n",
    "### 静的な領域\n",
    "- text\n",
    "    - プログラムの内、機械語の部分を置く\n",
    "- data\n",
    "    - 初期値のあるグローバル変数を置く\n",
    "- bss\n",
    "    - 初期値のないグローバル変数を置く\n",
    "    - Block Started by Symbolの略\n",
    "    - [参考リンク](http://www.ertl.jp/~takayuki/readings/info/no03.html)\n",
    "    \n",
    "### 動的な領域\n",
    "- heap\n",
    "    - プログラムのデータを置く\n",
    "- stack\n",
    "    - 関数の引数やローカル変数を置く\n",
    "    - 動的にサイズが確保されるものを置く"
   ]
  },
  {
   "cell_type": "markdown",
   "metadata": {
    "slideshow": {
     "slide_type": "subslide"
    }
   },
   "source": [
    "## アドレスをGoで確認してみる\n",
    "\n",
    "#### 複数の変数を宣言してアドレスを出力する\n",
    "\n",
    "- これらの値はスタック領域に入る\n",
    "\n",
    "```\n",
    "package main\n",
    "\n",
    "func main() {\n",
    "\ta, b, c := 11, 12, 13\n",
    "\tprintln(&a) // アドレスを出力\n",
    "\tprintln(&b)\n",
    "\tprintln(&c)\n",
    "}\n",
    "\n",
    "```\n",
    "\n",
    "#### 出力結果\n",
    "```\n",
    "> go run address.go\n",
    "0xc000040780\n",
    "0xc000040778\n",
    "0xc000040770 // 8bitずつ減っている\n",
    "```"
   ]
  },
  {
   "cell_type": "markdown",
   "metadata": {
    "slideshow": {
     "slide_type": "notes"
    }
   },
   "source": [
    "コンパイル(リンク)時に置かれるアドレスが決まる  → 静的\n",
    "実行時に置かれるアドレスが決まる → 動的\n",
    "\n",
    "--> スタック領域は、静的に確保される。スタック領域に置かれるデータは、動的に配置される。\n",
    "\n",
    "\n",
    "- １つのプロセスは1つのメモリ空間と複数のスレッドを持つ\n",
    "- 1つのスレッドは１つの連続したメモリ領域のスタックを持つ\n",
    "- つまり、1つのプロセスのメモリ空間の中には複数のスタック用のメモリ領域がある\n",
    "\n",
    "\n",
    "## メモリの領域\n",
    "\n",
    "- なんで分かれているのか\n",
    "    - メモリを使用する変数において、サイズが明確なものと、そうでないものがあるから\n",
    "    - 変数の値やアドレスなどのサイズが分かっている値を格納するときはスタックを利用する\n",
    "    - 動的にメモリを確保するものはヒープを利用する\n",
    "    \n",
    "\n",
    "    \n",
    "- 参考\n",
    "- https://keens.github.io/blog/2017/04/30/memoritosutakkutohi_puto/\n",
    "- http://th0x4c.github.io/blog/2012/10/10/os-virtual-memory-map/\n",
    "\n",
    "\n",
    "- スタックもヒープも両方RAM上のどこかのセクションの一部に属する\n",
    "    - https://www.uquest.co.jp/embedded/learning/lecture11.html\n",
    "\n",
    "\n",
    "- しつもん　https://teratail.com/questions/151094\n",
    "\n",
    "Cの場合は以下の4つの領域に分けられる   \n",
    "- プログラム領域\n",
    "- 静的領域\n",
    "- ヒープ領域\n",
    "- スタック領域\n",
    "\n"
   ]
  },
  {
   "cell_type": "markdown",
   "metadata": {
    "slideshow": {
     "slide_type": "slide"
    }
   },
   "source": [
    "# スタックについて\n",
    "\n",
    "- 積み上げる、堆積物という意味\n",
    "    - きれいに整然と積み上げていくイメージ\n",
    "- LIFO\n",
    "\n",
    "![](https://www.tutorialspoint.com/data_structures_algorithms/images/stack_representation.jpg)\n",
    "\n",
    "- 【画像引用元】[Data Structures and Algorithms Stack](https://www.tutorialspoint.com/data_structures_algorithms/stack_algorithm.htm)"
   ]
  },
  {
   "cell_type": "markdown",
   "metadata": {
    "slideshow": {
     "slide_type": "subslide"
    }
   },
   "source": [
    "## スタックについて\n",
    "\n",
    "- コンパイラやOSが自動で割り当てる領域\n",
    "    - 領域の解放も自動的にやってくれる\n",
    "    - 楽\n",
    "- メモリ割り当てが高速\n",
    "    - ローカル変数は全て事前にわかるので一度で割り当てられる\n",
    "    - ヒープ割り当てより2~3桁速い(要出典)\n"
   ]
  },
  {
   "cell_type": "markdown",
   "metadata": {
    "slideshow": {
     "slide_type": "subslide"
    }
   },
   "source": [
    "## コードでの解釈\n",
    "\n",
    "- スコープが入れ子になっているとき、内側のスコープで使うデータ領域は後から確保し、先に解放される\n",
    "    \n",
    "![](https://ufcpp.net/media/ufcpp2000/computer/fig/Essential/Stack.png)\n",
    "\n",
    "- わかりやすい図解\n",
    "    - [スタックメモリとヒープメモリ](http://article.higlabo.com/ja/stack_and_heap.html)\n",
    "    - 【画像引用元】[メモリ管理 - コンピュータの基礎知識 | ++C++; // 未確認飛行 C](https://ufcpp.net/study/computer/MemoryManagement.html)"
   ]
  },
  {
   "cell_type": "markdown",
   "metadata": {
    "slideshow": {
     "slide_type": "subslide"
    }
   },
   "source": [
    "## 気をつけること\n",
    "\n",
    "- スタックオーバーフロー\n",
    "    - スタックのメモリのサイズを超えてpushすること\n",
    "- スタックアンダーフロー\n",
    "    - スタックが空の状態でさらにpopしようとすること\n",
    "- スコープを抜ければスタック領域が強制的に解放される\n",
    "    - ポインタがスタック領域を指すときは解放後にアクセスしないようにする\n",
    "    \n",
    "    \n"
   ]
  },
  {
   "cell_type": "markdown",
   "metadata": {
    "slideshow": {
     "slide_type": "notes"
    }
   },
   "source": [
    "## スタック\n",
    "\n",
    "- CPUはスタック領域の一番上のアドレスをスタックポインタレジスタ(SPレジスタ)に保持している(?)\n",
    "    - push,popするとSPレジスタが移動する\n",
    "    - https://www.uquest.co.jp/embedded/learning/lecture07-1.html\n",
    "\n",
    "- 比較的サイズが小さくて、特定の関数内でしか使わない変数に向いている\n",
    "    - 不必要に大きすぎると、使われない領域が無駄になる\n",
    "    - なんで？\n",
    "    \n",
    "- 予めスコープが明確にわかっているデータに対してしか利用できない\n",
    "- ローカル変数は全て事前にわかっているので、メモリを一度で確保できるの高速\n",
    "    - アロケート時の速度の話\n",
    "- 一般的にはスタックに使うためのメモリ領域はそれほど大きく取らない\n",
    "    - 大きなデータ領域を一気に確保したい場合は向いていない\n",
    "- 使用できるサイズは決まっているので、使いすぎるとスタックオーバーフローする\n",
    "\n",
    "\n",
    "### 関連\n",
    "- 逆ポーランド記法\n",
    "    1. 数値だったらスタックにpush\n",
    "    2. 演算子が来たら2回pop\n",
    "    3. 演算したら答えをスタックにpush\n",
    "    4. = がきたら1回popして答えとする\n",
    "- スタックオーバーフロー\n",
    "    - スタックメモリのサイズを超えてpushすること\n",
    "- スタックアンダーフロー\n",
    "    - スタックが空の状態でさらにpopしようとすること\n",
    "    - Cとかで書いてると起こりえないが、アセンブラ言語とかなら起こりうる\n",
    "    - https://www.uquest.co.jp/embedded/learning/lecture08.html\n",
    "- バッファ・オーバーフロー\n",
    "- メモリリーク\n",
    "- GC"
   ]
  },
  {
   "cell_type": "markdown",
   "metadata": {
    "slideshow": {
     "slide_type": "slide"
    }
   },
   "source": [
    "# ヒープについて\n",
    "\n",
    "- 塊、山積みという意味\n",
    "    - 乱雑に山積みするイメージ\n",
    "\n",
    "![](https://craftofcoding.files.wordpress.com/2015/12/stackmemory4.jpg)"
   ]
  },
  {
   "cell_type": "markdown",
   "metadata": {
    "slideshow": {
     "slide_type": "subslide"
    }
   },
   "source": [
    "## ヒープについて\n",
    "\n",
    "- 動的に割り当てたり、開放できる領域\n",
    "- メモリの確保と解放を自分自身で行う必要がある\n",
    "    - サイズは動的に指定できる\n",
    "    - 確保、解放する順番は任意\n",
    "- 低速\n",
    "    - アロケート時は空いている領域を検索する\n",
    "    - 読み込み時もポインタアドレスから参照する"
   ]
  },
  {
   "cell_type": "markdown",
   "metadata": {
    "slideshow": {
     "slide_type": "subslide"
    }
   },
   "source": [
    "## 用途\n",
    "\n",
    "- データを必要とするスコープがはっきりしないとき\n",
    "    - さまざまな箇所から参照される場合など\n",
    "- ファイルを読み込むとき\n",
    "    - ファイルサイズがわからないから"
   ]
  },
  {
   "cell_type": "markdown",
   "metadata": {
    "slideshow": {
     "slide_type": "notes"
    }
   },
   "source": [
    "## ヒープ\n",
    "\n",
    "\n",
    "- ポインタはヒープに確保される(?)\n",
    "## 用途\n",
    "\n",
    "- データのサイズが大規模な場合\n",
    "    - なんで？\n",
    "\n",
    "### 関連\n",
    "\n",
    "- 双方向リンク構造\n",
    "    - 空きブロックどうしがそれぞれ双方向のリンクで結ばれ、これらのリンク途中へのノードの挿入や除去の操作が行われる\n",
    "    - https://www.ipa.go.jp/security/awareness/vendor/programmingv2/contents/c007.html\n",
    "\n"
   ]
  },
  {
   "cell_type": "markdown",
   "metadata": {
    "slideshow": {
     "slide_type": "subslide"
    }
   },
   "source": [
    "## C言語では\n",
    "\n",
    "- malloc()でメモリアロケーション\n",
    "- free()で解放\n",
    "\n",
    "------\n",
    "\n",
    "- 擬似コード\n",
    "    - 【参考】[ヒープとスタック | 学校では教えてくれないこと | [技術コラム集]組込みの門 | ユークエスト株式会社](https://www.uquest.co.jp/embedded/learning/lecture16.html)\n",
    "\n",
    "```\n",
    "ファイルオープン;\n",
    "file_sizeを取得;\n",
    "buf = malloc(file_size);\n",
    "bufにファイル内容を読み出し;\n",
    "free(buf);\n",
    "```\n",
    "\n",
    "    \n"
   ]
  },
  {
   "cell_type": "markdown",
   "metadata": {
    "slideshow": {
     "slide_type": "notes"
    }
   },
   "source": [
    "## C言語\n",
    "\n",
    "- malloc()は`void*`型のポインタを返すので、キャストして使うことが多い\n",
    "- `p = (char *) malloc(n);` // n byteのchar型のメモリ領域を確保\n",
    "- `malloc(n)` (`p`)はnバイトの領域を確保した先頭のアドレスを返す\n",
    "- free(p)で解放\n",
    "\n",
    "- Cの場合の配列のポインタは先頭要素のアドレスを示す\n",
    "- array[1]などは、配列名のアドレス+要素番号のメモリを参照ということになる\n"
   ]
  },
  {
   "cell_type": "markdown",
   "metadata": {
    "slideshow": {
     "slide_type": "subslide"
    }
   },
   "source": [
    "## C++では\n",
    "\n",
    "- new演算子でメモリアロケーション\n",
    "- delete演算子で解放\n",
    "\n",
    "- コンストラクタ、デストラクタがある辺りが若干違う\n",
    "    - http://book.geocities.jp/muu5muu/doc1/sample6.html\n",
    "    - https://brain.cc.kogakuin.ac.jp/~kanamaru/lecture/C++2/09/09-02.html\n",
    "\n",
    "\n",
    "\n"
   ]
  },
  {
   "cell_type": "markdown",
   "metadata": {
    "slideshow": {
     "slide_type": "subslide"
    }
   },
   "source": [
    "## Rustでは\n",
    "\n",
    "- `Box<T>型`をつかうとヒープ上にアロケートできる\n",
    "    - `i32`型の値5をxに格納\n",
    "    - `let x: Box<i32> = Box::new(5)`\n",
    "- [他の方法](http://mmi.hatenablog.com/entry/2017/08/06/230823)"
   ]
  },
  {
   "cell_type": "markdown",
   "metadata": {
    "slideshow": {
     "slide_type": "subslide"
    }
   },
   "source": [
    "## ちなみにGoでは\n",
    "\n",
    "- スタックとヒープを気にする必要がない\n",
    "    - コンパイラがよしなに行ってくれる\n",
    "    - newしても必要がなければスタックにアロケートする\n",
    "    - 【参考】[golangではスタックとヒープを気にする必要が無い - Qiita](https://qiita.com/rookx/items/a1e3d057a0ed71424094)"
   ]
  },
  {
   "cell_type": "markdown",
   "metadata": {
    "slideshow": {
     "slide_type": "slide"
    }
   },
   "source": [
    "## 気をつけること\n",
    "\n",
    "- 確保、解放を頻繁にやりすぎるとフラグメンテーションの原因になる\n",
    "    - 参照の局所性が失われ、キャッシュのヒット率低下が起こり、処理性能が悪化する\n",
    "    - GC後、使用領域を一箇所にまとめるコンパクションという処理を行うこともある\n",
    "- 確保に失敗することもある\n",
    "    - 物理的な空きメモリがないとき\n",
    "    - アドレス空間に空きがないとき"
   ]
  },
  {
   "cell_type": "markdown",
   "metadata": {
    "slideshow": {
     "slide_type": "notes"
    }
   },
   "source": [
    "## 気をつけること\n",
    "\n",
    "- 物理的な空きメモリが無いとき\n",
    "    - 最近のPCでは仮想メモリも作るのでアンマリ起こらない(?)\n",
    "- アドレス空間に空きがないとき\n",
    "    - 32bit環境ならポインタが32bitしかない\n",
    "    - 4GB?\n",
    "    - https://theolizer.com/cpp-school1/cpp-school1-11/"
   ]
  },
  {
   "cell_type": "markdown",
   "metadata": {
    "slideshow": {
     "slide_type": "slide"
    }
   },
   "source": [
    "# まとめ\n",
    "\n",
    "- メモリにはいくつかの領域がある\n",
    "- スタックはLIFOでスコープが寿命\n",
    "- ヒープは自分で確保と解放を行う"
   ]
  },
  {
   "cell_type": "markdown",
   "metadata": {
    "slideshow": {
     "slide_type": "slide"
    }
   },
   "source": [
    "# 参考\n",
    "\n",
    "- [ヒープとスタック | 学校では教えてくれないこと | [技術コラム集]組込みの門 | ユークエスト株式会社](https://www.uquest.co.jp/embedded/learning/lecture16.html)\n",
    "- [スタックメモリとヒープメモリ](http://article.higlabo.com/ja/stack_and_heap.html)\n",
    "- [メモリ管理 - コンピュータの基礎知識 | ++C++; // 未確認飛行 C](https://ufcpp.net/study/computer/MemoryManagement.html)\n",
    "- [メモリとスタックとヒープとプログラミング言語 | κeenのHappy Hacκing Blog](https://keens.github.io/blog/2017/04/30/memoritosutakkutohi_puto/)\n",
    "- [malloc ライブラリのメモリ管理構造 | 技術文書 | 技術情報 | VA Linux Systems Japan株式会社](https://www.valinux.co.jp/technologylibrary/document/linux/malloc0001/)(未読)\n",
    "- [ポインタと配列 - A Day In The Life](http://glassonion.hatenablog.com/entry/20090414/1239716083)"
   ]
  },
  {
   "cell_type": "markdown",
   "metadata": {
    "slideshow": {
     "slide_type": "notes"
    }
   },
   "source": [
    "## メモリリーク\n",
    "\n",
    "- ヒープを利用するときに、用済みのデータ領域を開放せずにゴミが溜まる状態\n",
    "\n",
    "## 二重解法\n",
    "\n",
    "- すでに解放済みの領域を再度開放しようとすること\n",
    "\n",
    "## ガベージコレクション\n",
    "\n",
    "- ヒープの(?)のメモリ領域を開放すること\n",
    "- 有効な領域から参照されていないメモリ領域を開放する\n",
    "\n",
    "- https://ufcpp.net/study/computer/MemoryManagement.html\n",
    "- Mark and Serrp\n",
    "    - スコープ(有効な領域)から辿って、参照されていない領域を探してGCをする「マーク&スイープ」方式というのがある\n",
    "    - rubyのGC\n",
    "    - jsも\n",
    "    -  https://developer.mozilla.org/ja/docs/Web/JavaScript/Memory_Management#Mark-and-sweep_algorithm\n",
    "- Copy GC方式\n",
    "    - ヒープ領域を2つとって、1箇所にまとめてコピーしていきながらコンパクションとGCを同時に行う\n",
    "    - 片一方(ヒープ領域の半分)が未使用になってしまう\n",
    "    - Java,OCaml,HaskellのGC\n",
    "- 世代別GC\n",
    "    - ヒープ領域を複数の世代に分ける\n",
    "    - ruby,javaなど\n",
    "- 参照カウント方式\n",
    "    - https://developer.mozilla.org/ja/docs/Web/JavaScript/Memory_Management#Reference-counting_garbage_collection\n",
    "    - 値を参照するたびにカウントを増やし、使わなくなったら減らし、0になったらfree\n",
    "    - python,phpのGC\n",
    "    - jsも\n",
    "    \n",
    "    \n",
    "- https://developer.mozilla.org/ja/docs/Web/JavaScript/Memory_Management\n",
    "- 難しいのは割り当てられたメモリが、今後必要とされない」ことを保証すること\n",
    "- > メモリーの断片が不要になって解放する必要があるかを決定するには、開発者による判断が必要なことが多いです。\n",
    "\n",
    "\n"
   ]
  },
  {
   "cell_type": "markdown",
   "metadata": {
    "slideshow": {
     "slide_type": "notes"
    }
   },
   "source": [
    "# ポインタ\n",
    "\n",
    "- ポインタはアドレス変数\n",
    "- 変数のアドレスを格納する変数\n",
    "\n",
    "- (Cの場合)、必ず以下の3ステップで用いる\n",
    "    1. 宣言\n",
    "    2. 値(アドレス)の設定\n",
    "    3. 使用\n",
    "    \n",
    "    \n",
    "- `*`を使って型を指定してポインタを宣言\n",
    "    - ポインタの差すものはただのアドレスなので、それの値の型がわからないので型を指定\n",
    "```\n",
    "var ptr *int\n",
    "```\n",
    "\n",
    "- `&`を使ってアドレスを取得\n",
    "    - アンパサンドレス\n",
    "```\n",
    "pointer = &n // 変数nのアドレス\n",
    "```\n",
    "\n",
    "- `*`アドレスから変数の中身を見る\n",
    "```\n",
    "*pointer\n",
    "    --------←あどれす\n",
    "------------←値\n",
    "```\n",
    "\n",
    "- アドレス自体は演算できない(Goは)\n",
    "    - `// pointer = pointer + 1               `    \n",
    "    - `// tmp/sandbox390357081/main.go:37:20: invalid operation: pointer + 1 (mismatched types *int and int)  `\n",
    "    \n",
    "    \n",
    "- 関数宣言時の引数に`*`がついているときはなに？？？？？\n",
    "- func hoge(*a) {} ←宣言時。このとき*a, aはそれぞれ何？\n",
    "- hoge(&a) ←呼び出し時。アドレスを渡している?\n",
    "- https://fisproject.jp/2014/01/%E3%80%90c%E8%A8%80%E8%AA%9E%E3%80%91%E3%83%9D%E3%82%A4%E3%83%B3%E3%82%BF%E3%81%A8%E3%83%A1%E3%83%A2%E3%83%AA%E3%81%AE%E8%A9%B1%E3%80%90%E3%83%92%E3%83%BC%E3%83%97%E3%80%91/\n",
    "    \n",
    "## ポインタのポインタ\n",
    "\n",
    "- `**hoge`\n",
    "- ポインタ変数のアドレスを格納する変数\n",
    "- ポインタのアドレスを書き換えたいときに使う\n",
    "- https://bituse.info/c/28\n",
    "    \n",
    "    \n",
    "## 値渡しと参照渡し\n",
    "\n",
    "- 関数の引数に値をセットすると、関数内で値がコピーされる(値渡し)\n",
    "\n",
    "- 関数の引数にポインタをセットすると、関数内での変更は元の値にも影響がある(参照渡し)\n",
    "- https://www.yoheim.net/blog.php?q=20170901"
   ]
  },
  {
   "cell_type": "markdown",
   "metadata": {
    "slideshow": {
     "slide_type": "notes"
    }
   },
   "source": [
    "# Rustの話\n",
    "\n",
    "- http://vividcode.hatenablog.com/entry/rust/introduction/2\n",
    "- https://doc.rust-jp.rs/the-rust-programming-language-ja/1.6/book/the-stack-and-the-heap.html\n",
    "- http://south37.hatenablog.com/entry/2014/12/14/Rust%E3%81%AB%E3%81%8A%E3%81%91%E3%82%8BBorrowing%E3%81%AE%E4%BB%95%E7%B5%84%E3%81%BF ←若干文法が古い\n",
    "- RustにGCはない\n",
    "\n",
    "\n",
    "- `&`をつけると参照になる\n",
    "- 参照はいくつでも作れる\n",
    "- https://qiita.com/cactaceae/items/2c70a9947364c60ec100\n",
    "```\n",
    "let v1 = vec![1, 2, 3];\n",
    "let v2 = &v1;\n",
    "let v3 = &v2;\n",
    "println!(\"Hello, {}, {}, {} !\", v1[0], v2[1], v3[2]); \n",
    "````\n",
    "\n",
    "## ownership\n",
    "\n",
    "- https://blog.waft.me/2017/09/24/rust-heap/\n",
    "- C++ではコンパイルは通るが、実行すると落ちる\n",
    "    - https://qiita.com/myhr47/items/262b8b8f1edd8097d03c\n",
    "- http://mao-instantlife.hatenablog.com/entry/2016/05/05/Rust%E3%81%AE%E5%8B%89%E5%BC%B7%EF%BC%88%E3%81%9D%E3%81%AE%EF%BC%91%EF%BC%91%EF%BC%89\n",
    "- Rustではムーブセマンティクスを通して1つの変数のみに所有権をもたせることで、リソースの二重解放を防いでいる\n",
    "\n",
    "- 変数が開放されればデストラクタが呼ばれ、スタック、ヒープともに開放される\n",
    "- 所有権があることによってデストラクトのタイミングを正確に把握できる\n",
    "```\n",
    "fn foo() {\n",
    "    let v = vec![1, 2, 3];\n",
    "}\n",
    "```\n",
    "- 新しいvectorはスタック上、各要素のためのスペースはヒープ上に確保\n",
    "- スコープを抜ければ、vectorに関するリソースが解放される\n",
    "    - スタック上のものは取り除かれ、ヒープ上のものものfreeされる\n",
    "\n",
    "- https://qiita.com/kakaka19/items/2ba88ae0a148951d6f4c\n",
    "    - http://ykomatsu.github.io/rust/book-ja/ownership.html\n",
    "\n",
    "### そもそも束縛ってなに\n",
    "\n",
    "\n",
    "- 以下の例の場合、「束縛されている値」は`vec![1,2,3]`のこと?\n",
    "- `vec![1,2,3]`を名前`v`に束縛 ?\n",
    "```\n",
    "fn foo() {\n",
    "    let v = vec![1, 2, 3];\n",
    "}\n",
    "```\n",
    "\n",
    "## borrowing\n",
    "\n",
    "- ownershipは移さずに値への参照を可能にする\n",
    "\n",
    "\n",
    "## lifetime\n",
    "\n"
   ]
  },
  {
   "cell_type": "markdown",
   "metadata": {
    "slideshow": {
     "slide_type": "notes"
    }
   },
   "source": [
    "# Goの話\n",
    "\n",
    "## ポインタ\n",
    "\n",
    "- https://qiita.com/Sekky0905/items/447efa04a95e3fec217f\n",
    "\n",
    "\n",
    "\n",
    "\n",
    "- https://qiita.com/Sekky0905/items/c9cbda2498a685517ad0#%E3%83%9D%E3%82%A4%E3%83%B3%E3%82%BF\n",
    "- `%p`でポインタ\n",
    "```\n",
    "fmt.Printf(\"ポインタ = %p\", p)  // -> ポインタ = 0x1040a130\n",
    "\n",
    "```\n",
    "\n",
    "## mapとsliceの違い"
   ]
  },
  {
   "cell_type": "code",
   "execution_count": null,
   "metadata": {},
   "outputs": [],
   "source": []
  }
 ],
 "metadata": {
  "celltoolbar": "Slideshow",
  "kernelspec": {
   "display_name": "Python 3",
   "language": "python",
   "name": "python3"
  },
  "language_info": {
   "codemirror_mode": {
    "name": "ipython",
    "version": 3
   },
   "file_extension": ".py",
   "mimetype": "text/x-python",
   "name": "python",
   "nbconvert_exporter": "python",
   "pygments_lexer": "ipython3",
   "version": "3.6.1"
  },
  "toc": {
   "nav_menu": {},
   "number_sections": false,
   "sideBar": true,
   "skip_h1_title": false,
   "toc_cell": false,
   "toc_position": {},
   "toc_section_display": "block",
   "toc_window_display": false
  }
 },
 "nbformat": 4,
 "nbformat_minor": 2
}
