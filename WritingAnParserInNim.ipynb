{
 "cells": [
  {
   "cell_type": "markdown",
   "metadata": {
    "toc": true
   },
   "source": [
    "<h1>Table of Contents<span class=\"tocSkip\"></span></h1>\n",
    "<div class=\"toc\" style=\"margin-top: 1em;\"><ul class=\"toc-item\"><li><span><a href=\"#Writing-An-Parser-In-Nim\" data-toc-modified-id=\"Writing-An-Parser-In-Nim-1\">Writing An Parser In Nim</a></span></li><li><span><a href=\"#目次\" data-toc-modified-id=\"目次-2\">目次</a></span></li><li><span><a href=\"#概要\" data-toc-modified-id=\"概要-3\">概要</a></span></li><li><span><a href=\"#What-is-Parser?\" data-toc-modified-id=\"What-is-Parser?-4\">What is Parser?</a></span></li><li><span><a href=\"#demo\" data-toc-modified-id=\"demo-5\">demo</a></span></li><li><span><a href=\"#Example\" data-toc-modified-id=\"Example-6\">Example</a></span><ul class=\"toc-item\"><li><span><a href=\"#Lexer\" data-toc-modified-id=\"Lexer-6.1\">Lexer</a></span></li><li><span><a href=\"#Struct\" data-toc-modified-id=\"Struct-6.2\">Struct</a></span></li><li><span><a href=\"#AST\" data-toc-modified-id=\"AST-6.3\">AST</a></span></li></ul></li><li><span><a href=\"#Pratt-Parser\" data-toc-modified-id=\"Pratt-Parser-7\">Pratt Parser</a></span><ul class=\"toc-item\"><li><span><a href=\"#仕組み\" data-toc-modified-id=\"仕組み-7.1\">仕組み</a></span><ul class=\"toc-item\"><li><span><a href=\"#完成品\" data-toc-modified-id=\"完成品-7.1.1\">完成品</a></span></li><li><span><a href=\"#2-*-3を作る\" data-toc-modified-id=\"2-*-3を作る-7.1.2\">2 * 3を作る</a></span><ul class=\"toc-item\"><li><span><a href=\"#1\" data-toc-modified-id=\"1-7.1.2.1\">1</a></span></li><li><span><a href=\"#2\" data-toc-modified-id=\"2-7.1.2.2\">2</a></span></li><li><span><a href=\"#3\" data-toc-modified-id=\"3-7.1.2.3\">3</a></span></li></ul></li></ul></li><li><span><a href=\"#/-4の部分を作る\" data-toc-modified-id=\"/-4の部分を作る-7.2\">/ 4の部分を作る</a></span></li></ul></li></ul></div>"
   ]
  },
  {
   "cell_type": "markdown",
   "metadata": {
    "slideshow": {
     "slide_type": "slide"
    }
   },
   "source": [
    "# Writing An Parser In Nim"
   ]
  },
  {
   "cell_type": "markdown",
   "metadata": {
    "slideshow": {
     "slide_type": "slide"
    }
   },
   "source": [
    "# Table of Contents\n",
    "\n",
    "1. "
   ]
  },
  {
   "cell_type": "markdown",
   "metadata": {
    "slideshow": {
     "slide_type": "notes"
    }
   },
   "source": [
    "# 目次\n",
    "\n",
    "1. 概要\n",
    "2. parserとは\n",
    "3. demo\n",
    "3. parserの種類\n",
    "4. Pratt構文解析器\n",
    "5. visualizerとか\n",
    "6. 苦労したこと\n",
    "6. 所感"
   ]
  },
  {
   "cell_type": "markdown",
   "metadata": {
    "slideshow": {
     "slide_type": "notes"
    }
   },
   "source": [
    "# 概要\n",
    "\n",
    "- Goで作るインタプリタの２章が終わった\n",
    "- Lexerの続き\n",
    "![](https://www.oreilly.co.jp/books/images/picture_large978-4-87311-822-2.jpeg)"
   ]
  },
  {
   "cell_type": "markdown",
   "metadata": {},
   "source": [
    "# What is Parser?\n"
   ]
  },
  {
   "cell_type": "markdown",
   "metadata": {
    "slideshow": {
     "slide_type": "notes"
    }
   },
   "source": [
    "# Parserとは何か\n",
    "\n",
    "- Token列からASTを作るやつ\n",
    "- ASTは、プログラムの抽象的な構文木のこと"
   ]
  },
  {
   "cell_type": "markdown",
   "metadata": {
    "slideshow": {
     "slide_type": "slide"
    }
   },
   "source": [
    "# demo\n",
    "\n",
    "`$ nim c -r src/repl/repl.nim`"
   ]
  },
  {
   "cell_type": "markdown",
   "metadata": {
    "slideshow": {
     "slide_type": "slide"
    }
   },
   "source": [
    "# Example\n",
    "\n",
    "![](https://github.com/mrsekut/slides/blob/master/img/WritingParserInNim/inputLetStatementCode.png?raw=true)"
   ]
  },
  {
   "cell_type": "markdown",
   "metadata": {
    "slideshow": {
     "slide_type": "subslide"
    }
   },
   "source": [
    "## Lexer\n",
    "\n",
    "```\n",
    "[Type = \"LET\", Literal = \"let\"]\n",
    "[Type = \"IDENT\", Literal = \"hoge\"]\n",
    "[Type = \"=\", Literal = \"=\"]\n",
    "[Type = \"INT\", Literal = \"1\"]\n",
    "[Type = \"+\", Literal = \"+\"]\n",
    "[Type = \"INT\", Literal = \"2\"]\n",
    "[Type = \"*\", Literal = \"*\"]\n",
    "[Type = \"INT\", Literal = \"3\"]\n",
    "[Type = \"/\", Literal = \"/\"]\n",
    "[Type = \"INT\", Literal = \"4\"]\n",
    "[Type = \"+\", Literal = \"+\"]\n",
    "[Type = \"INT\", Literal = \"5\"]\n",
    "[Type = \"-\", Literal = \"-\"]\n",
    "[Type = \"INT\", Literal = \"6\"]\n",
    "[Type = \";\", Literal = \";\"]\n",
    "```"
   ]
  },
  {
   "cell_type": "markdown",
   "metadata": {
    "slideshow": {
     "slide_type": "subslide"
    }
   },
   "source": [
    "## Struct\n",
    "```\n",
    "Token: {\n",
    "    Type: 'LET',\n",
    "    Literal: 'let'\n",
    "},\n",
    "Let: {\n",
    "    Token: {\n",
    "        Type: 'IDENT',\n",
    "        Literal: 'hoge'\n",
    "    },\n",
    "    IdentValue: 'hoge'\n",
    "},\n",
    "LetValue: {\n",
    "    Left: {\n",
    "        Left: {\n",
    "            Token: {\n",
    "                Type: 'INT',\n",
    "                Literal: '1'\n",
    "            },\n",
    "            IntValue: 1\n",
    "        },\n",
    "        Operator: '+',\n",
    "        Right: {\n",
    "            Left: {\n",
    "                Left: {\n",
    "                    Token: {\n",
    "                        Type: 'INT',\n",
    "                        Literal: '2'\n",
    "                    },\n",
    "                    IntValue: 2\n",
    "                },\n",
    "                Operator: '*',\n",
    "                Right: {\n",
    "                    Token: {\n",
    "                        Type: 'INT',\n",
    "                        Literal: '3'\n",
    "                    },\n",
    "                    IntValue: 3\n",
    "                }\n",
    "            },\n",
    "            Operator: '/',\n",
    "            Right: {\n",
    "                Token: {\n",
    "                    Type: 'INT',\n",
    "                    Literal: '4'\n",
    "                },\n",
    "                IntValue: 4\n",
    "            }\n",
    "        }\n",
    "    },\n",
    "    Operator: '+',\n",
    "    InRight: {\n",
    "        Left: {\n",
    "            Token: {\n",
    "                Type: 'INT',\n",
    "                Literal: '5'\n",
    "            },\n",
    "            IntValue: 5\n",
    "        },\n",
    "        Operator: '*',\n",
    "        Right: {\n",
    "            Token: {\n",
    "                Type: 'INT',\n",
    "                Literal: '6'\n",
    "            },\n",
    "            IntValue: 6\n",
    "        }\n",
    "    }\n",
    "}\n",
    "\n",
    "```"
   ]
  },
  {
   "cell_type": "markdown",
   "metadata": {
    "slideshow": {
     "slide_type": "subslide"
    }
   },
   "source": [
    "## AST\n",
    "\n",
    "雑なAST  \n",
    "![](https://github.com/mrsekut/slides/blob/master/img/WritingParserInNim/ast.png?raw=true)"
   ]
  },
  {
   "cell_type": "markdown",
   "metadata": {
    "slideshow": {
     "slide_type": "slide"
    }
   },
   "source": [
    "# Pratt Parser\n",
    "\n",
    "- Vaughan Pratt, 1973\n",
    "- he says \n",
    "    - very simple to understand\n",
    "    - trivial to implement\n",
    "    - easy to use\n",
    "    - extremely efficient in practice if not in theory\n",
    "    \n",
    "    \n",
    "論文→https://tdop.github.io/\n",
    "jsを用いた解説http://crockford.com/javascript/tdop/tdop.html ←jslintを作った人"
   ]
  },
  {
   "cell_type": "markdown",
   "metadata": {
    "slideshow": {
     "slide_type": "subslide"
    }
   },
   "source": [
    "## Types of parsers\n",
    "\n",
    "- Top-down parsing\n",
    "    - recurcive-descent parser ← this!\n",
    "    - LL parser\n",
    "    - packrat parser\n",
    "- Bottom-up parsing\n",
    "    - LR parser\n",
    "        - Simple LR parser\n",
    "        - LALR parser\n",
    "        - CLR parser\n",
    "        - GLR parser\n",
    "     - Earley parser\n",
    "     - CYK parser\n",
    "\n",
    "\n",
    "\n",
    "\n",
    "\n",
    "\n",
    "https://en.wikipedia.org/wiki/Parsing"
   ]
  },
  {
   "cell_type": "markdown",
   "metadata": {},
   "source": [
    "## 仕組み\n",
    "\n",
    "- 前提\n",
    "    - 式と文\n",
    "    \n",
    "### Expression\n",
    "\n",
    "- 値を生成する\n",
    "- ex.\n",
    "    - 42, hoge\n",
    "\n",
    "\n",
    "### Statement\n",
    "\n",
    "- 値を生成しない\n",
    "- ex.\n",
    "    - let hoge = foo\n",
    "    - return 42\n",
    "    - if else"
   ]
  },
  {
   "cell_type": "markdown",
   "metadata": {},
   "source": [
    "### 完成品\n",
    "\n",
    "\"2 * 3 / 4\"\n",
    "\n",
    "![](https://github.com/mrsekut/slides/blob/master/img/WritingParserInNim/ast2.png?raw=true)\n",
    "\n",
    "\n",
    "![](https://github.com/mrsekut/slides/blob/master/img/WritingParserInNim/struct.png?raw=true)"
   ]
  },
  {
   "cell_type": "markdown",
   "metadata": {},
   "source": [
    "### 2 * 3を作る"
   ]
  },
  {
   "cell_type": "markdown",
   "metadata": {
    "slideshow": {
     "slide_type": "subslide"
    }
   },
   "source": [
    "#### 1\n",
    "\n",
    "- parseStatement\n",
    "\n",
    "![](https://github.com/mrsekut/slides/blob/master/img/WritingParserInNim/1.png?raw=true)\n",
    "\n",
    "![](https://github.com/mrsekut/slides/blob/master/img/WritingParserInNim/parseStatementCode-2.png?raw=true)\n",
    "\n"
   ]
  },
  {
   "cell_type": "markdown",
   "metadata": {
    "slideshow": {
     "slide_type": "subslide"
    }
   },
   "source": [
    "#### 2\n",
    "\n",
    "\n",
    "\n",
    "![](https://github.com/mrsekut/slides/blob/master/img/WritingParserInNim/2.png?raw=true)\n",
    "\n",
    "![](https://github.com/mrsekut/slides/blob/master/img/WritingParserInNim/parseExpressionCode-INT.png?raw=true)\n"
   ]
  },
  {
   "cell_type": "markdown",
   "metadata": {},
   "source": [
    "parseExpressionStatement()の中でparseExpression()が呼び出されます。\n",
    "\n",
    "- 図\n",
    "- こｋ−土bmbm"
   ]
  },
  {
   "cell_type": "markdown",
   "metadata": {},
   "source": [
    "#### 3\n",
    "- whileにはいった\n",
    "\n",
    "![](https://github.com/mrsekut/slides/blob/master/img/WritingParserInNim/3.png?raw=true)\n",
    "\n",
    "![](https://github.com/mrsekut/slides/blob/master/img/WritingParserInNim/parseExpressionCode-PLUS.png?raw=true)\n"
   ]
  },
  {
   "cell_type": "markdown",
   "metadata": {},
   "source": [
    "4\n",
    "![](https://github.com/mrsekut/slides/blob/master/img/WritingParserInNim/4.png?raw=true)\n",
    "\n",
    "\n",
    "![](https://github.com/mrsekut/slides/blob/master/img/WritingParserInNim/parseInfixExpression-2.png?raw=true)"
   ]
  },
  {
   "cell_type": "markdown",
   "metadata": {},
   "source": [
    "5\n",
    "\n",
    "- 再びparseExpressionが呼び出された\n",
    "- ここではwhileループに入らない(ホンマに？)\n",
    "\n",
    "![](https://github.com/mrsekut/slides/blob/master/img/WritingParserInNim/5.png?raw=true)\n",
    "\n",
    "![](https://github.com/mrsekut/slides/blob/master/img/WritingParserInNim/parseExpressionCode-INT-2.png?raw=true)\n",
    "|"
   ]
  },
  {
   "cell_type": "markdown",
   "metadata": {},
   "source": [
    "6\n",
    "- parseInfixExpressionの値が返ってきたので、whileの一番上に戻る\n",
    "\n",
    "![](https://github.com/mrsekut/slides/blob/master/img/WritingParserInNim/6.png?raw=true)\n",
    "\n",
    "![](https://github.com/mrsekut/slides/blob/master/img/WritingParserInNim/parseExpressionCode-while.png?raw=true)\n"
   ]
  },
  {
   "cell_type": "markdown",
   "metadata": {},
   "source": [
    "### 優先順位を判定する\n",
    "\n",
    "while文に入るかどうか"
   ]
  },
  {
   "cell_type": "markdown",
   "metadata": {},
   "source": [
    "\n",
    "\n",
    "```\n",
    "Lowest < Equals # true\n",
    "Call < Lowest # false\n",
    "```\n",
    "\n",
    "\n",
    "![](https://github.com/mrsekut/slides/blob/master/img/WritingParserInNim/PrecedenceCode.png?raw=true)\n",
    "\n",
    "\n",
    "\n",
    "\n",
    "\"+\" == \"-\"\n",
    "![](https://github.com/mrsekut/slides/blob/master/img/WritingParserInNim/tokenToPrecedenceCode.png?raw=true)\n"
   ]
  },
  {
   "cell_type": "markdown",
   "metadata": {},
   "source": [
    "## / 4の部分を作る"
   ]
  },
  {
   "cell_type": "markdown",
   "metadata": {},
   "source": [
    "7\n",
    "![](https://github.com/mrsekut/slides/blob/master/img/WritingParserInNim/7.png?raw=true)\n",
    "\n",
    "![](https://github.com/mrsekut/slides/blob/master/img/WritingParserInNim/parseExpressionCode-SLASH.png?raw=true)\n",
    "\n",
    "\n",
    "![](https://github.com/mrsekut/slides/blob/master/img/WritingParserInNim/parseInfixExpression-Operator.png?raw=true)"
   ]
  },
  {
   "cell_type": "markdown",
   "metadata": {},
   "source": [
    "8\n",
    "![](https://github.com/mrsekut/slides/blob/master/img/WritingParserInNim/8.png?raw=true)\n",
    "\n",
    "![](https://github.com/mrsekut/slides/blob/master/img/WritingParserInNim/parseInfixExpression-right.png?raw=true)"
   ]
  },
  {
   "cell_type": "markdown",
   "metadata": {},
   "source": [
    "9\n",
    "![](https://github.com/mrsekut/slides/blob/master/img/WritingParserInNim/9.png?raw=true)\n",
    "\n",
    "![](https://github.com/mrsekut/slides/blob/master/img/WritingParserInNim/parseInfixExpression.png?raw=true)"
   ]
  }
 ],
 "metadata": {
  "celltoolbar": "Slideshow",
  "kernelspec": {
   "display_name": "Python 3",
   "language": "python",
   "name": "python3"
  },
  "language_info": {
   "codemirror_mode": {
    "name": "ipython",
    "version": 3
   },
   "file_extension": ".py",
   "mimetype": "text/x-python",
   "name": "python",
   "nbconvert_exporter": "python",
   "pygments_lexer": "ipython3",
   "version": "3.6.1"
  },
  "toc": {
   "nav_menu": {},
   "number_sections": false,
   "sideBar": true,
   "skip_h1_title": false,
   "toc_cell": true,
   "toc_position": {},
   "toc_section_display": "block",
   "toc_window_display": false
  }
 },
 "nbformat": 4,
 "nbformat_minor": 2
}
