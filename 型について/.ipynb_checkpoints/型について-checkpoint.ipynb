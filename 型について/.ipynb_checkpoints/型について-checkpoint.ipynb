{
 "cells": [
  {
   "cell_type": "markdown",
   "metadata": {
    "heading_collapsed": true,
    "slideshow": {
     "slide_type": "slide"
    }
   },
   "source": [
    "# なんで型なんてあるのか\n",
    "\n",
    "20180907_社内勉強会"
   ]
  },
  {
   "cell_type": "markdown",
   "metadata": {
    "slideshow": {
     "slide_type": "slide"
    }
   },
   "source": [
    "# 型に興味をもったきっかけ"
   ]
  },
  {
   "cell_type": "markdown",
   "metadata": {
    "slideshow": {
     "slide_type": "subslide"
    }
   },
   "source": [
    "## プログラミングに初めて触れたとき\n",
    "\n",
    "- 最初に触ったのはC言語\n",
    "- int, float, char, ...\n",
    "    - コレ全部覚えなあかんの？\n",
    "    - ややこしくね？？？\n",
    "    - なんでわざわざ範囲の狭い型使うの？\n",
    "        - 全部long long intでええやん！！！"
   ]
  },
  {
   "cell_type": "markdown",
   "metadata": {
    "slideshow": {
     "slide_type": "subslide"
    }
   },
   "source": [
    "## そして動的型付けの言語を始める\n",
    "\n",
    "\n",
    "- Python\n",
    "- JavaScript\n",
    "- PHP(ちょっと)\n",
    "\n",
    "→型書かんで良いの超ラクじゃん！！！最高！！！"
   ]
  },
  {
   "cell_type": "markdown",
   "metadata": {
    "slideshow": {
     "slide_type": "slide"
    }
   },
   "source": [
    "## 再び静的型付けの言語を始める\n",
    "\n",
    "- 仕事でTypeScript\n",
    "- ノリでHaskell, Go\n",
    "- とりあえず補完が\n",
    "→型に興味を持ち始める\n",
    "\n"
   ]
  },
  {
   "cell_type": "markdown",
   "metadata": {
    "slideshow": {
     "slide_type": "slide"
    }
   },
   "source": [
    "# 静的型付けと動的型付けの違い"
   ]
  },
  {
   "cell_type": "markdown",
   "metadata": {
    "slideshow": {
     "slide_type": "subslide"
    }
   },
   "source": [
    "## 静的型付け\n",
    "\n",
    "- プログラムを実行前に型検査を行う\n",
    "    - それによって高度な最適化ができる\n",
    "- 効率がいい\n",
    "    - 型宣言をすることで、その変数に対して適切なデータ領域を確保できる\n",
    "- コンパイルを通すのが大変だったりする\n",
    "- 例\n",
    "    - C, C++, Rust, Go, Haskell, etc.\n",
    "    \n"
   ]
  },
  {
   "cell_type": "markdown",
   "metadata": {
    "slideshow": {
     "slide_type": "fragment"
    }
   },
   "source": [
    "## 動的型付け\n",
    "\n",
    "- プログラムを実行しながら型検査を行う\n",
    "- 楽に書ける\n",
    "- 遅い\n",
    "- 例\n",
    "    - Python, JavaScript, PHP, Ruby, etc."
   ]
  },
  {
   "cell_type": "markdown",
   "metadata": {
    "slideshow": {
     "slide_type": "slide"
    }
   },
   "source": [
    "# 強い型付けと弱い型付け"
   ]
  },
  {
   "cell_type": "markdown",
   "metadata": {
    "slideshow": {
     "slide_type": "subslide"
    }
   },
   "source": [
    "## 強い型付け\n",
    "- 型安全性がある\n",
    "- 予期しない動作が起きない\n",
    "- 型検査を通れば、安全さが保証される\n",
    "- ML, Haskell\n"
   ]
  },
  {
   "cell_type": "markdown",
   "metadata": {
    "slideshow": {
     "slide_type": "fragment"
    }
   },
   "source": [
    "## 弱い型付け\n",
    "- 型安全性がない\n",
    "- 検査を通っても安全さは保証されない\n",
    "- C, C++\n"
   ]
  },
  {
   "cell_type": "markdown",
   "metadata": {
    "slideshow": {
     "slide_type": "slide"
    }
   },
   "source": [
    "# bitでデータを表す方法"
   ]
  },
  {
   "cell_type": "markdown",
   "metadata": {
    "slideshow": {
     "slide_type": "subslide"
    }
   },
   "source": [
    "## 例えば浮動小数点数\n",
    "\n",
    "- IEEE754で定められたものがよく使われる\n",
    "- 以下の3つの部分で表される\n",
    "    - 符号\n",
    "        - 0なら正、1なら負\n",
    "    - 仮数\n",
    "        - 1.XXXXX の XXXXX の部分\n",
    "    - 指数\n",
    "        - -127~128\n",
    "        - -127なら小数点を右に127個動かす\n",
    "        - 128なら小数点を左に128個動かす\n",
    "        - 127のバイアスが加わる\n",
    "            - 0個ずらすとき127\n",
    "- [浮動小数点数シミュレーター](https://tools.m-bsys.com/calculators/ieee754.php)"
   ]
  },
  {
   "cell_type": "markdown",
   "metadata": {
    "slideshow": {
     "slide_type": "fragment"
    }
   },
   "source": [
    "![](http://www.cc.kyoto-su.ac.jp/~yamada/programming/float.png)"
   ]
  },
  {
   "cell_type": "markdown",
   "metadata": {
    "slideshow": {
     "slide_type": "subslide"
    }
   },
   "source": [
    "### 例\n",
    "\n",
    "- 10進数で7.0\n"
   ]
  },
  {
   "cell_type": "markdown",
   "metadata": {
    "slideshow": {
     "slide_type": "fragment"
    }
   },
   "source": [
    "→ 2進数で表す\n",
    "- 111.0"
   ]
  },
  {
   "cell_type": "markdown",
   "metadata": {
    "slideshow": {
     "slide_type": "fragment"
    }
   },
   "source": [
    "→小数点を左に2つずらす \n",
    "- 1.11 * 10^2"
   ]
  },
  {
   "cell_type": "markdown",
   "metadata": {
    "slideshow": {
     "slide_type": "fragment"
    }
   },
   "source": [
    "- 符号\n",
    "    - 正数なので0\n",
    "- 仮数\n",
    "    - 1.XXX の XXX の部分なので11\n",
    "- 指数\n",
    "    - 10の2乗なので2\n",
    "    - 127のバイアスを考慮すると129(2^7 + 1)\n",
    "    - 10000001\n",
    "\n",
    "    "
   ]
  },
  {
   "cell_type": "markdown",
   "metadata": {
    "slideshow": {
     "slide_type": "fragment"
    }
   },
   "source": [
    "### 結果\n",
    "\n",
    "0 10000001 11000000 00000000 0000000"
   ]
  },
  {
   "cell_type": "markdown",
   "metadata": {
    "slideshow": {
     "slide_type": "slide"
    }
   },
   "source": [
    "## じゃあこれはなんぼ？\n",
    "\n",
    "0 10000001 11000000 00000000 0000000"
   ]
  },
  {
   "cell_type": "markdown",
   "metadata": {
    "slideshow": {
     "slide_type": "slide"
    }
   },
   "source": [
    "## 答え\n",
    "\n",
    "さっきと同じだから7!!!!!!"
   ]
  },
  {
   "cell_type": "markdown",
   "metadata": {
    "slideshow": {
     "slide_type": "fragment"
    }
   },
   "source": [
    "と思ったが、   \n",
    "浮動小数点数ではなく整数の場合、2166358016になる  \n",
    "\n",
    "どういうことかというと.."
   ]
  },
  {
   "cell_type": "markdown",
   "metadata": {
    "slideshow": {
     "slide_type": "slide"
    }
   },
   "source": [
    "### 整数の場合  \n",
    "000 ... 000001 なら1  \n",
    "000 ... 000010 なら2  \n",
    "となる"
   ]
  },
  {
   "cell_type": "markdown",
   "metadata": {
    "slideshow": {
     "slide_type": "slide"
    }
   },
   "source": [
    "型いるやん！"
   ]
  },
  {
   "cell_type": "markdown",
   "metadata": {
    "heading_collapsed": true,
    "slideshow": {
     "slide_type": "slide"
    }
   },
   "source": [
    "## 動的型付けの言語はどうしているのか\n",
    "\n",
    "### 例えばPython\n",
    "\n",
    "![](https://github.com/mrsekut/slides/blob/master/%E5%9E%8B%E3%81%AB%E3%81%A4%E3%81%84%E3%81%A6/img/py.png?raw=true)"
   ]
  },
  {
   "cell_type": "code",
   "execution_count": null,
   "metadata": {
    "hidden": true
   },
   "outputs": [],
   "source": [
    "®"
   ]
  }
 ],
 "metadata": {
  "celltoolbar": "Slideshow",
  "kernelspec": {
   "display_name": "Python 3",
   "language": "python",
   "name": "python3"
  },
  "language_info": {
   "codemirror_mode": {
    "name": "ipython",
    "version": 3
   },
   "file_extension": ".py",
   "mimetype": "text/x-python",
   "name": "python",
   "nbconvert_exporter": "python",
   "pygments_lexer": "ipython3",
   "version": "3.6.1"
  },
  "toc": {
   "nav_menu": {},
   "number_sections": false,
   "sideBar": true,
   "skip_h1_title": false,
   "toc_cell": false,
   "toc_position": {},
   "toc_section_display": "block",
   "toc_window_display": false
  }
 },
 "nbformat": 4,
 "nbformat_minor": 2
}
