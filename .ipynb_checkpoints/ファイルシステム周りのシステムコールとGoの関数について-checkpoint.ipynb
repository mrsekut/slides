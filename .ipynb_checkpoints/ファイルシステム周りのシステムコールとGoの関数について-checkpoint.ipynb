{
 "cells": [
  {
   "cell_type": "markdown",
   "metadata": {
    "heading_collapsed": true,
    "slideshow": {
     "slide_type": "notes"
    }
   },
   "source": [
    "## ファイルシステムとは\n",
    "\n",
    "どこにどんなファイルが記録されているか管理する仕組み\n",
    "\n",
    "一つのふぁいるには入れられる上限がある(?) →FATとか？\n",
    "\n",
    "- ファイルベースインターフェス\n",
    "    - データアクセスのためのもの\n",
    "- ファイルパーミッション\n",
    "    - アクセス制御のためのもの\n",
    "\n",
    "\n",
    "### 種類\n",
    "https://www.rescue-center.jp/explanation/filesystem/type.html  \n",
    "https://eng-entrance.com/linux-make-filesystem  \n",
    "- windows\n",
    "    - FAT16, FAT32, NTFS\n",
    "- Mac\n",
    "    - HFS, HFS+\n",
    "- Linux\n",
    "    - ext4, XFS\n",
    "- DVD\n",
    "    - UDF\n",
    "    \n",
    "    \n",
    "    \n",
    "HDDのようなデータを記録する装置には\n",
    "- ファイルシステムの領域\n",
    "    - どのクラスタにどのデータを記録したかなどを管理\n",
    "    - ファイルシステムが壊れるとデータが残っていても読み出すことができなくなる\n",
    "    - HDDのデータを削除しても消えるのはファイルシステムの記録のみ\n",
    "        - ファイルシステムのindexを削除している\n",
    "        - ファイル復元ソフトを使うと、クラスタ領域のデータを調べて復元できる\n",
    "        - 全部ちゃんと消すのは「データ抹消ソフト」\n",
    "- クラスタの領域\n",
    "    - データを保存するための領域\n",
    "    - どんなに小さなファイルでも必ず1つのクラスタを使用するので、一つ一つのクラスタサイズが大きいとHDDが無駄になりやすい\n",
    "    \n",
    "    \n",
    "    \n",
    "    \n",
    "    \n",
    "一つのフォルダの中に沢山のファイルをいれると、検索の際に遅くなる\n",
    "- 1000以上あるとだいぶ多い\n",
    "- サブフォルダを作って分類すべき\n",
    "\n",
    "\n",
    "## ジャーナル機能\n",
    "\n",
    "- UNIXでは1990年代初頭\n",
    "- 更新に係る処理が完了したかどうかのフラグをココのファイルごとに持っている\n",
    "- ファイルシステムが壊れたときに全ファイルのインデックスとデータの照合をしなくても、フラグがないところだけを走査するだけで済む\n",
    "\n",
    "\n",
    "\n",
    "## アロケーション方式\n",
    "\n",
    "### エクステントアロケーション方式\n",
    "\n",
    "1つのファイルを連続したハードディスク領域に配置する  \n",
    "ファイルを最初から最後まで順にアクセスしていくシーケンシャルアクセスでは速い  \n",
    "代わりに、追加や削除を繰り返すと分散してしまう  \n",
    "ABC連続してたところにABCを消して、DEFGを追加しようとなるとGはどこか別のところに置かないといけなくなる  \n",
    "http://www.atmarkit.co.jp/ait/articles/1210/02/news131.html\n",
    "\n",
    "### ブロックアロケーション方式\n",
    "\n",
    "複数のハードディスク領域に分散して配置する  \n",
    "シーケンシャルアクセスでは遅いが、ファイルの作成や追加や更新を繰り返してもパフォーマンスの劣化がない\n",
    "\n",
    "\n",
    "## マウントとは\n",
    "\n",
    "ディレクトリ(マウントポイント)に自分のツリーを付け加える(syspafo p99)\n",
    "\n",
    "\n",
    "## df コマンド\n",
    "\n",
    "`df -T`　現在マウントされているファイルタイプを確認する  \n",
    "`df -i` inodeの使用割合の確認\n",
    "\n",
    "\n",
    "## VFS\n",
    "\n",
    "- Linux上のOSごとに異なるファイルシステムのインターフェース\n"
   ]
  },
  {
   "cell_type": "markdown",
   "metadata": {
    "hidden": true,
    "slideshow": {
     "slide_type": "notes"
    }
   },
   "source": [
    "\n",
    "\n",
    "## inode\n",
    "\n",
    "- ファイルの管理情報\n",
    "- `ls -i`でinode番号を確認できる"
   ]
  },
  {
   "cell_type": "markdown",
   "metadata": {
    "slideshow": {
     "slide_type": "slide"
    }
   },
   "source": [
    "# ファイルシステム周りのシステムコールとGoの関数について\n",
    "\n",
    "2018/9/26 勉強会"
   ]
  },
  {
   "cell_type": "markdown",
   "metadata": {
    "slideshow": {
     "slide_type": "slide"
    }
   },
   "source": [
    "## syscall.inotify\n",
    "\n",
    "- inotify\n",
    "\n",
    "\n"
   ]
  },
  {
   "cell_type": "markdown",
   "metadata": {
    "slideshow": {
     "slide_type": "subslide"
    }
   },
   "source": [
    "### inotify\n",
    "\n",
    "- ファイルシステムへの変更を通知する\n",
    "- dnotifyの派生\n",
    "- Linux 2.6.13カーネルから組み込まれた\n",
    "- 1つのファイルディスクリプタを開くだけで1つ以上のファイルやディレクトリでの以下のことを監視できる\n",
    "    - Open\n",
    "    - Close\n",
    "    - 移動/名前変更\n",
    "    - 削除\n",
    "    - 作成\n",
    "    - 属性の変更\n",
    "    - etc.\n",
    "\n",
    "- inotifyコマンド\n",
    "    - http://www.usupi.org/sysad/157.html\n",
    "    \n",
    "    \n",
    "【参考】\n",
    "- https://www.ibm.com/developerworks/jp/linux/library/l-inotify/index.html"
   ]
  },
  {
   "cell_type": "markdown",
   "metadata": {
    "slideshow": {
     "slide_type": "subslide"
    }
   },
   "source": [
    "## 実践\n",
    "\n",
    "- go_fsnotify.go"
   ]
  },
  {
   "cell_type": "markdown",
   "metadata": {
    "slideshow": {
     "slide_type": "notes"
    }
   },
   "source": [
    "## ファイルの変更監視\n",
    "\n",
    "ファイルシステムのイベント監視\n",
    "\n",
    "ファイルの変更をプログラムで監視する\n",
    "\n",
    "- パッシブな方式\n",
    "    - 監視したいファイルをOS側に通知しておいて、変更があったら教えてもらう\n",
    "\n",
    "- アクティブな方式\n",
    "    - タイマーなどで定期的にフォルダを走査する\n",
    "\n",
    "### inotify\n",
    "\"\n",
    "- dnotifyの派生\n",
    "- https://www.ibm.com/developerworks/jp/linux/library/l-inotify/index.html\n",
    "- Linux 2.6.13カーネルから組み込まれた\n",
    "- 1つのファイルディスクリプタを開くだけで1つ以上のファイルやディレクトリでの以下のことを監視できる\n",
    "    - Open\n",
    "    - Close\n",
    "    - 移動/名前変更\n",
    "    - 削除\n",
    "    - 作成\n",
    "    - 属性の変更\n",
    "    - etc.\n",
    "\n",
    "- inotifyコマンド\n",
    "    - http://www.usupi.org/sysad/157.html\n",
    "\n",
    "### fsnotify\n",
    "- https://github.com/fsnotify/fsnotify\n",
    "- https://godoc.org/github.com/fsnotify/fsnotify\n",
    "\n",
    "\n",
    "\n",
    "\n",
    "### キーワード\n",
    "\n",
    "- CPUの割り込みイベントのやつに似てるね\n",
    "    - http://www.kumikomi.net/archives/2009/11/post_23.php?page=1\n",
    "    - jsのときに谷口さんと同じような話しした\n"
   ]
  },
  {
   "cell_type": "markdown",
   "metadata": {
    "slideshow": {
     "slide_type": "slide"
    }
   },
   "source": [
    "## syscall.Flock\n",
    "\n",
    "- fcntl"
   ]
  },
  {
   "cell_type": "markdown",
   "metadata": {
    "slideshow": {
     "slide_type": "subslide"
    }
   },
   "source": [
    "## ファイルロック\n",
    "\n",
    "- 複数のプロセス間で同じリソースを同時に変更しないようにするために、他のプロセスに「このリソース使用してるなう」と伝える手法の一つ　　\n",
    "- 排他制御\n",
    "- 普通に並列に読み込むときは順番とか考えずにアクセスしてもいい\n",
    "\n",
    "\n",
    "\n"
   ]
  },
  {
   "cell_type": "markdown",
   "metadata": {
    "slideshow": {
     "slide_type": "subslide"
    }
   },
   "source": [
    "### よくある例\n",
    "\n",
    "- カウンター増えない問題\n",
    "- 銀行口座の上書き"
   ]
  },
  {
   "cell_type": "markdown",
   "metadata": {
    "slideshow": {
     "slide_type": "subslide"
    }
   },
   "source": [
    "### syscall.Flock()\n",
    "- ファイルロックをかけられる\n",
    "- ロックはかかっているが、普通に書き込める\n",
    "- 後からアクセスしてきたプロセスが確認してくれなければ意味がない\n",
    "    - アクセスしてくるプロセス全員がFlock()すれば、かかっていれば何もしない、かかってなければかけるといったことができる\n",
    "- これを勧告ロックという\n",
    "    - 対義語は強制ロック"
   ]
  },
  {
   "cell_type": "markdown",
   "metadata": {
    "slideshow": {
     "slide_type": "subslide"
    }
   },
   "source": [
    "### 共有ロックと排他ロック\n",
    "\n",
    "- 共有ロック\n",
    "    - 複数のプロセスから同じリソースに対していくつも同時にかけられる\n",
    "    - 読み込むときに使用される\n",
    "    - 他のプロセスがロックをかけようとした場合は、共有ロックは許可するが、排他ロックを許可しない\n",
    "\n",
    "- 排他ロック\n",
    "    - 他のプロセスからの共有ロックがブロックされる\n",
    "    - 書きこむときに使用される\n",
    "    - 他のプロセスがロックをかけようとした場合は、共有ロックも排他ロックも許可しない"
   ]
  },
  {
   "cell_type": "markdown",
   "metadata": {
    "slideshow": {
     "slide_type": "notes"
    }
   },
   "source": [
    "\n",
    "\n",
    "\n",
    "### syscall.Flock()\n",
    "- ファイルロックをかけられる\"\n",
    "- ロックはかかっているが、普通に書き込める\n",
    "- 後からアクセスしてきたプロセスが確認してくれなければ意味がない\n",
    "    - アクセスしてくるプロセス全員がFlock()すれば、かかっていれば何もしない、かかってなければかけるといったことができる\n",
    "- これを勧告ロックという\n",
    "\n",
    "\n",
    "- CGIとか\n",
    "\n",
    "\n",
    "- ファイルロック\n",
    "    - リソースが使用中であることをロックファイルによって示す\n",
    "    - 処理が始まるとロックファイルを作り、終わると消す\n",
    "    \n",
    "- CGI　ロックファイル\n",
    "\n",
    "\n",
    "- 勧告ロック\n",
    "    - 強制力のないロック\n",
    "    - flock\n",
    "    \n",
    "    \n",
    "- 強制ロック\n",
    "    - \n",
    "    \n",
    "\n",
    "    \n",
    "    \n",
    "- ノンブロッキングモード\n",
    "    - 定期的にロックをかけようとトライする\n",
    "- ブロッキングモード\n"
   ]
  },
  {
   "cell_type": "markdown",
   "metadata": {
    "slideshow": {
     "slide_type": "subslide"
    }
   },
   "source": [
    "## 実践\n",
    "\n",
    "- go_flock.go"
   ]
  },
  {
   "cell_type": "markdown",
   "metadata": {
    "slideshow": {
     "slide_type": "slide"
    }
   },
   "source": [
    "## syscall.Mmap()\n",
    "\n",
    "- mmap\n"
   ]
  },
  {
   "cell_type": "markdown",
   "metadata": {
    "slideshow": {
     "slide_type": "subslide"
    }
   },
   "source": [
    "## ファイルのメモリへのマッピング\n",
    "\n",
    "- syscall.Mmap()\n",
    "    - メモリマップ？\n",
    "    - ファイルの中身をそのままメモリ上に展開できる\n",
    "    - メモリ上で書き換えられた内容をそのままファイルに書き込める"
   ]
  },
  {
   "cell_type": "markdown",
   "metadata": {
    "slideshow": {
     "slide_type": "notes"
    }
   },
   "source": [
    "\n",
    "## ファイルのメモリへのマッピング\n",
    "\n",
    "- 15章読んだときにやるといいかも？\n",
    "\n",
    "- syscall.Mmap()\n",
    "    - メモリマップ？\n",
    "    - ファイルの中身をそのままメモリ上に展開できる\n",
    "    - メモリ上で書き換えられた内容をそのままファイルに書き込める\n",
    "\n",
    "\n",
    "- goのmmap-go\n",
    "    - COPY: コピーオンライト\n"
   ]
  },
  {
   "cell_type": "markdown",
   "metadata": {
    "slideshow": {
     "slide_type": "subslide"
    }
   },
   "source": [
    "## 実践\n",
    "\n",
    "- go_mmap.go"
   ]
  },
  {
   "cell_type": "markdown",
   "metadata": {
    "slideshow": {
     "slide_type": "notes"
    }
   },
   "source": [
    "#  同期・非同期とブロッキング・ノンブロッキングによる分類"
   ]
  },
  {
   "cell_type": "markdown",
   "metadata": {
    "slideshow": {
     "slide_type": "notes"
    }
   },
   "source": [
    "## 同期・非同期処理\n",
    "\n",
    "- 実データを取りに行くのか、通知をもらうのかの違い\n",
    "\n",
    "### 同期処理\n",
    "- OSにI/Oタスクを投げて、入出力の準備ができたらアプリケーションが返ってくる\n",
    "- あるタスクが実行している間、他のタスクの処理は中断される\n",
    "\n",
    "### 非同期処理\n",
    "- OSにI/Oタスクを投げて、入出力の準備ができたら通知をもらう\n",
    "- あるタスクが実行している間も、他のタスクの処理を実行し続けられる"
   ]
  },
  {
   "cell_type": "markdown",
   "metadata": {
    "slideshow": {
     "slide_type": "notes"
    }
   },
   "source": [
    "## ブロッキング・ノンブロッキング\n",
    "\n",
    "- 処理の結果の受け取り方の違い\n",
    "\n",
    "### ブロッキング処理\n",
    "- お願いしたI/Oタスクの結果の準備ができるまで待つ\n",
    "- 自分は停止\n",
    "\n",
    "### ノンブロッキング処理\n",
    "- お願いしたI/Oタスクの結果の準備ができるのを待たない\n",
    "- 自分は停止しない\n"
   ]
  },
  {
   "cell_type": "markdown",
   "metadata": {
    "slideshow": {
     "slide_type": "notes"
    }
   },
   "source": [
    "## システムコールの分類\n",
    "\n",
    "\n",
    "![](https://www.ibm.com/developerworks/linux/library/l-async/figure1.gif)\n",
    "【画像引用元】https://www.ibm.com/developerworks/linux/library/l-async/"
   ]
  },
  {
   "cell_type": "markdown",
   "metadata": {
    "slideshow": {
     "slide_type": "notes"
    }
   },
   "source": [
    "### 同期・ブロッキング\n",
    "\n",
    "- read,write\n",
    "- 処理が完了するまでの間、何もせずに待つ\n",
    "- 重いのがあるとそこで止まる\n",
    "    \n",
    "![](https://www.ibm.com/developerworks/linux/library/l-async/figure2.gif)\n",
    "\n",
    "- 同期的→片一方でしか処理を実行できない\n",
    "- ブロッキング的→処理が移っている間は待機"
   ]
  },
  {
   "cell_type": "markdown",
   "metadata": {
    "slideshow": {
     "slide_type": "notes"
    }
   },
   "source": [
    "### 同期・ノンブロッキング\n",
    "\n",
    "- フラグ付きread,write\n",
    "    - ファイルオープン時にノンブロッキングのフラグを付与する\n",
    "- 聞いたタイミングで終わってるかどうかを教えてくれる\n",
    "- ポーリングする\n",
    "![](https://www.ibm.com/developerworks/linux/library/l-async/figure3.gif)\n",
    "    \n",
    "\n",
    "- 同期的→片一方でしか処理を実行できない\n",
    "- ノンブロッキング的→アプリケーション側から「まだ？」と聞いている"
   ]
  },
  {
   "cell_type": "markdown",
   "metadata": {
    "slideshow": {
     "slide_type": "notes"
    }
   },
   "source": [
    "### 非同期・ブロッキング\n",
    "\n",
    "- I/O多重化\n",
    "    - select, pollシステムコールを使う\n",
    "    \n",
    "    \n",
    "![](https://www.ibm.com/developerworks/linux/library/l-async/figure4.gif)\n",
    "\n",
    "- 非同期的→両方の処理が動いている部分がある\n",
    "- ブロッキング的→処理が移っている間は待機(?)"
   ]
  },
  {
   "cell_type": "markdown",
   "metadata": {
    "slideshow": {
     "slide_type": "notes"
    }
   },
   "source": [
    "## 非同期・ノンブロッキング\n",
    "\n",
    "\n",
    "- aio\n",
    "    \n",
    "![](https://www.ibm.com/developerworks/linux/library/l-async/figure5.gif)"
   ]
  },
  {
   "cell_type": "markdown",
   "metadata": {
    "slideshow": {
     "slide_type": "notes"
    }
   },
   "source": [
    "\n",
    "\n",
    "## select属のシステムコールによるI/O多重化\n"
   ]
  },
  {
   "cell_type": "markdown",
   "metadata": {
    "slideshow": {
     "slide_type": "slide"
    }
   },
   "source": [
    "# 参考\n",
    "\n",
    "- https://www.nttpc.co.jp/yougo/%E3%83%95%E3%82%A1%E3%82%A4%E3%83%AB%E3%82%B7%E3%82%B9%E3%83%86%E3%83%A0.html\n",
    "- http://blog.matsumoto-r.jp/?p=2030\n",
    "- http://www.ibm.com/developerworks/linux/library/l-async/\n"
   ]
  }
 ],
 "metadata": {
  "celltoolbar": "Slideshow",
  "kernelspec": {
   "display_name": "Python 3",
   "language": "python",
   "name": "python3"
  },
  "language_info": {
   "codemirror_mode": {
    "name": "ipython",
    "version": 3
   },
   "file_extension": ".py",
   "mimetype": "text/x-python",
   "name": "python",
   "nbconvert_exporter": "python",
   "pygments_lexer": "ipython3",
   "version": "3.6.1"
  },
  "toc": {
   "nav_menu": {},
   "number_sections": false,
   "sideBar": true,
   "skip_h1_title": false,
   "toc_cell": false,
   "toc_position": {},
   "toc_section_display": "block",
   "toc_window_display": false
  }
 },
 "nbformat": 4,
 "nbformat_minor": 2
}
