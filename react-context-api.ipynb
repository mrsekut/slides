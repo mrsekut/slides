{
 "cells": [
  {
   "cell_type": "markdown",
   "metadata": {
    "slideshow": {
     "slide_type": "slide"
    }
   },
   "source": [
    "# ReactのContext\n",
    "\n",
    "- 2018/11/14 勉強会"
   ]
  },
  {
   "cell_type": "markdown",
   "metadata": {
    "slideshow": {
     "slide_type": "slide"
    }
   },
   "source": [
    "# アジェンダ\n",
    "\n",
    "1. ContextAPI概要\n",
    "1. いつ使うか\n",
    "1. Reduxとの応対"
   ]
  },
  {
   "cell_type": "markdown",
   "metadata": {
    "slideshow": {
     "slide_type": "slide"
    }
   },
   "source": [
    "# ContextAPI概要\n",
    "\n"
   ]
  },
  {
   "cell_type": "markdown",
   "metadata": {
    "slideshow": {
     "slide_type": "subslide"
    }
   },
   "source": [
    "## 従来のReact\n",
    "\n",
    "- 親から子へデータを渡すときはpropsを使う\n",
    "\n",
    "```\n",
    "// 親\n",
    "export default class Parent extends React.Componet {\n",
    "  render() {\n",
    "    const count = 1;\n",
    "    // `count`を子孫にわたす\n",
    "    return <Child count={count} />;\n",
    "  }\n",
    "}\n",
    "\n",
    "// 曾孫 やっとここで使いたい\n",
    "const Child = ({ count }) => <div>count: {count}</div>;\n",
    "```"
   ]
  },
  {
   "cell_type": "markdown",
   "metadata": {
    "slideshow": {
     "slide_type": "subslide"
    }
   },
   "source": [
    "### もっと入れ子&複数propsになるとき\n",
    "\n",
    "- 親→子→孫→..渡すときにバケツリレーが続いてしまう\n",
    "    - これを`Prop Drilling`問題という\n",
    "    \n",
    "```\n",
    "export default class Parent extends React.Componet {\n",
    "  render() {\n",
    "    const count = 1;\n",
    "    const word = 'hello';\n",
    "\n",
    "    return <Child count={count} word={word} />;\n",
    "  }\n",
    "}\n",
    "\n",
    "// 子 ここでは使わない\n",
    "const Child = ({ count, word }) => <Grandson count={count} word={word} />;\n",
    "\n",
    "// 孫 ここでも使わない\n",
    "const Grandson = ({ count, word }) => (\n",
    "  <GreatGrandchild count={count} word={word} />\n",
    ");\n",
    "\n",
    "// 曾孫 やっとここで使いたい\n",
    "const GreatGrandchild = ({ count, word }) => (\n",
    "  <>\n",
    "    <div>count: {count}</div>\n",
    "    <div>word: {word}</div>\n",
    "  </>\n",
    ");\n",
    "```"
   ]
  },
  {
   "cell_type": "markdown",
   "metadata": {
    "slideshow": {
     "slide_type": "subslide"
    }
   },
   "source": [
    "## 従来の解決の仕方\n",
    "\n",
    "- Reduxを使う\n",
    "- spread attibutesを使う\n",
    "    - {...props}みたいなやつ"
   ]
  },
  {
   "cell_type": "markdown",
   "metadata": {
    "slideshow": {
     "slide_type": "subslide"
    }
   },
   "source": [
    "## ContextAPIとは\n",
    "\n",
    "- React製\n",
    "- contextを使って子孫にデータを送る\n",
    "- `this.props`の代わりに`this.context`とかを使う??????????"
   ]
  },
  {
   "cell_type": "markdown",
   "metadata": {
    "slideshow": {
     "slide_type": "notes"
    }
   },
   "source": [
    "\n",
    "\n",
    "contextAPI\n",
    "\n",
    "https://reactjs.org/docs/context.html\n",
    "\n",
    "### 使い所\n"
   ]
  },
  {
   "cell_type": "markdown",
   "metadata": {
    "slideshow": {
     "slide_type": "slide"
    }
   },
   "source": [
    "## ContextAPIを用いた最小の例\n",
    "\n",
    "```\n",
    "import React, { createContext } from 'react';\n",
    "\n",
    "const { Provider, Consumer } = createContext(1);\n",
    "\n",
    "export const Parent = () => (\n",
    "  <Provider value={{ count: 1 }}>\n",
    "    <Child />\n",
    "  </Provider>\n",
    ");\n",
    "\n",
    "// 子 propsを伝搬させてない\n",
    "const Child = () => <Grandson />;\n",
    "\n",
    "// 孫 同じく伝搬させてない\n",
    "const Grandson = () => <GreatGrandchild />;\n",
    "\n",
    "const GreatGrandchild = () => (\n",
    "  <Consumer>{({ count }) => <div>values: {count}</div>}</Consumer>\n",
    ");\n",
    "```\n",
    "\n"
   ]
  },
  {
   "cell_type": "markdown",
   "metadata": {
    "slideshow": {
     "slide_type": "subslide"
    }
   },
   "source": [
    "### 解説\n",
    "\n",
    "#### [React.createContext](https://reactjs.org/docs/context.html#reactcreatecontext)\n",
    "\n",
    "- ProviderとConsumerをペアで作る\n",
    "- 上記の例のように2値を一気に受け取るものもアレば以下のような使い方もある\n",
    "```\n",
    "const Root = React.createContext;\n",
    "...\n",
    "<Root.Provider />\n",
    "...\n",
    "<Root.Consumer />\n",
    "```\n",
    "\n",
    "#### [Provider](https://reactjs.org/docs/context.html#contextprovider)\n",
    "\n",
    "- Consumerにcontextを渡すコンポーネント\n",
    "- `value`を使って渡す\n",
    "- 値だけでなく関数も渡せる\n",
    "- (ReduxのProviderと全く同じ名前なのは..)\n",
    "\n",
    "#### [Consumer](https://reactjs.org/docs/context.html#contextconsumer)\n",
    "\n",
    "- Providerからcontextを受け取る\n",
    "- 中には関数を書く\n",
    "- 主にclassではなくFCの中で使う？？？？？？？？？？？\n",
    "    - classでも使えるの？？？？？？？？？？？・\n",
    "- 子に関数をもつ\n",
    "```\n",
    "<Consumer>\n",
    "  {({ count }) => <div>values: {count}</div>}\n",
    "</Consumer>\n",
    "```\n",
    "    "
   ]
  },
  {
   "cell_type": "markdown",
   "metadata": {
    "slideshow": {
     "slide_type": "slide"
    }
   },
   "source": [
    "## ちなみに公式では\n",
    "\n",
    "- テーマカラーやログイン中ユーザーなど、状態が頻繁に変わるわけではないが、いろんなコンポーネントからアクセスされるやつをContextに渡している"
   ]
  },
  {
   "cell_type": "markdown",
   "metadata": {
    "slideshow": {
     "slide_type": "slide"
    }
   },
   "source": [
    "## 少し拡張する\n",
    "\n",
    "- 次の例ではまだ紹介していない`Class.contextType`も使う\n",
    "- 関数も渡す\n"
   ]
  },
  {
   "cell_type": "markdown",
   "metadata": {
    "slideshow": {
     "slide_type": "subslide"
    }
   },
   "source": [
    "\n",
    "```\n",
    "import React from 'react';\n",
    "\n",
    "// store的ななにか\n",
    "const store = {\n",
    "  num: 0,\n",
    "  increment: () => {}\n",
    "};\n",
    "\n",
    "// contextを作る\n",
    "const CounterContext = React.createContext(store);\n",
    "\n",
    "// 親\n",
    "export default class Parent extends React.Component {\n",
    "  constructor(props) {\n",
    "    super(props);\n",
    "    this.state = {\n",
    "      num: store.num\n",
    "    };\n",
    "  }\n",
    "\n",
    "  increment = () => {\n",
    "    this.setState({\n",
    "      num: this.state.num + 1\n",
    "    });\n",
    "  };\n",
    "\n",
    "  render() {\n",
    "    return (\n",
    "      <CounterContext.Provider\n",
    "        value={{ num: this.state.num, increment: this.increment }}\n",
    "      >\n",
    "        <p>num</p>\n",
    "        <Child />\n",
    "      </CounterContext.Provider>\n",
    "    );\n",
    "  }\n",
    "}\n",
    "\n",
    "// 子\n",
    "const Child = () => <Grandson />;\n",
    "\n",
    "// 孫\n",
    "// これはclass\n",
    "class Grandson extends React.Component {\n",
    "  static contextType = CounterContext;\n",
    "  render() {\n",
    "    const { num, increment } = { ...this.context };\n",
    "    return (\n",
    "      <>\n",
    "        <p>{num}</p>\n",
    "        <button onClick={increment}>increment</button>\n",
    "      </>\n",
    "    );\n",
    "  }\n",
    "}\n",
    "\n",
    "```"
   ]
  },
  {
   "cell_type": "markdown",
   "metadata": {
    "slideshow": {
     "slide_type": "subslide"
    }
   },
   "source": [
    "### 解説\n",
    "\n",
    "- [Class.contextType](https://reactjs.org/docs/context.html#classcontexttype)\n",
    "\n",
    "- 前の例と同じように、Childコンポーネントをではなにもしていない\n",
    "- `value`で値と一緒に関数も渡している\n",
    "```\n",
    "<CounterContext.Provider\n",
    "  value={{ num: this.state.num, increment: this.increment }}\n",
    ">\n",
    "  <p>num</p>\n",
    "  <Child />\n",
    "</CounterContext.Provider>\n",
    "```\n",
    "\n",
    "- 孫コンポーネントの以下の部分でcontextを受け取っている\n",
    "- `static contextTypes = CounterContext`\n",
    "- 受け取ったcontextは`this.context.hogehoge`で利用できる\n",
    "- 受け取るコンポーネントがclassならcontextTypesを使い、SFCならConsumerを使う(?)"
   ]
  },
  {
   "cell_type": "markdown",
   "metadata": {
    "slideshow": {
     "slide_type": "subslide"
    }
   },
   "source": [
    "### 上の例の孫を以下のようにSFCに変えても動く\n",
    "\n",
    "```\n",
    "const Grandson = () => (\n",
    "  <CounterContext.Consumer>\n",
    "    {({ num, increment }) => (\n",
    "      <>\n",
    "        <p>{num}</p>\n",
    "        <button onClick={increment}>increment</button>\n",
    "      </>\n",
    "    )}\n",
    "  </CounterContext.Consumer>\n",
    ");\n",
    "\n",
    "```"
   ]
  },
  {
   "cell_type": "markdown",
   "metadata": {
    "slideshow": {
     "slide_type": "notes"
    }
   },
   "source": [
    "\n",
    "- createContext()の引数=初期値がよくわからん\n",
    "\n",
    "\n",
    "### Caveats とは\n"
   ]
  },
  {
   "cell_type": "markdown",
   "metadata": {
    "slideshow": {
     "slide_type": "slide"
    }
   },
   "source": [
    "## Reduxとの応対\n",
    "\n",
    "- 今後もReduxを使っていくが\n",
    "- 小規模だったり、ギリReduxを使いたくないぐらいのときに使えそう\n",
    "- それ以上の規模のときに使うとぐちゃりそう\n",
    "\n",
    "- ReduxはReactの旧Context機能を使って実装されている"
   ]
  },
  {
   "cell_type": "markdown",
   "metadata": {
    "slideshow": {
     "slide_type": "slide"
    }
   },
   "source": [
    "## Hooksを使う\n",
    "\n",
    "- 親もFCでよくなる\n",
    "- 以下の例は親以外は一緒\n",
    "\n",
    "```\n",
    "import React, { useState, useContext } from 'react';\n",
    "\n",
    "// store的ななにか\n",
    "const store = {\n",
    "  num: 0,\n",
    "  increment: () => {}\n",
    "};\n",
    "\n",
    "// contextを作る\n",
    "const CounterContext = React.createContext(store);\n",
    "\n",
    "// 親\n",
    "const Parent = () => {\n",
    "  useContext(CounterContext);\n",
    "  const [num, setNum] = useState(0);\n",
    "\n",
    "  return (\n",
    "    <CounterContext.Provider\n",
    "      value={{\n",
    "        num,\n",
    "        increment: () => {\n",
    "          setNum(num + 1);\n",
    "        }\n",
    "      }}\n",
    "    >\n",
    "      <Child />\n",
    "    </CounterContext.Provider>\n",
    "  );\n",
    "};\n",
    "export default Parent;\n",
    "\n",
    "// 子\n",
    "const Child = () => <Grandson />;\n",
    "\n",
    "// 孫\n",
    "const Grandson = () => (\n",
    "  <CounterContext.Consumer>\n",
    "    {({ num, increment }) => (\n",
    "      <>\n",
    "        <p>{num}</p>\n",
    "        <button onClick={increment}>increment</button>\n",
    "      </>\n",
    "    )}\n",
    "  </CounterContext.Consumer>\n",
    ");\n",
    "```\n",
    "\n",
    "\n"
   ]
  },
  {
   "cell_type": "markdown",
   "metadata": {
    "slideshow": {
     "slide_type": "subslide"
    }
   },
   "source": [
    "### 解説\n",
    "\n",
    "- useContextの使い方\n"
   ]
  },
  {
   "cell_type": "markdown",
   "metadata": {
    "slideshow": {
     "slide_type": "slide"
    }
   },
   "source": [
    "## ContextAPI + react-redux\n",
    "\n",
    "先日のリリース  \n",
    "https://github.com/reduxjs/react-redux/releases/tag/v6.0.0-beta.1\n",
    "\n",
    "`npm install react-redux@next`で入れる  \n",
    "`npm install --save redux` reduxも  \n",
    "\n",
    "\n",
    "- testを参考に\n",
    "https://github.com/reduxjs/react-redux/blob/85fb553ba8e3f4b0efc158d2e48aafb4c18a04d4/test/components/Provider.spec.js\n",
    "\n",
    "\n",
    "https://medium.com/@terrierscript/react%E3%81%AE%E6%96%B0context-api%E3%81%A8redux-is-dead%E3%81%AF%E3%81%A9%E3%81%86%E9%96%A2%E4%BF%82%E3%81%99%E3%82%8B%E3%81%AE%E3%81%8B-6d12a32f2f0c\n"
   ]
  },
  {
   "cell_type": "markdown",
   "metadata": {
    "slideshow": {
     "slide_type": "slide"
    }
   },
   "source": [
    "Consuming Multiple Contexts\n",
    "\n",
    "https://reactjs.org/docs/context.html#consuming-multiple-contexts\n",
    "複雑性が増しそう"
   ]
  },
  {
   "cell_type": "markdown",
   "metadata": {
    "slideshow": {
     "slide_type": "slide"
    }
   },
   "source": [
    "# 参考\n",
    "\n",
    "- [React v16で実装された new Context APIを使って、Reduxへ別れを告げる - Qiita](https://qiita.com/loverails/items/50126e874b24ff984471)\n",
    "- [【React - ContextAPI】Consumerの正体は、イケイケなコンポーネントだった - Qiita](https://qiita.com/kazumicho/items/4f862b618eda09e14ec7)\n",
    "- [Redux と React Context API - 適材適所のススメ - Qiita](https://qiita.com/ossan-engineer/items/c3e5bd4d9bb4db04f80d)\n",
    "- [React v16で実装された new Context APIを使って、Reduxへ別れを告げる② - Qiita](https://qiita.com/loverails/items/b8dc97384951f785322d#_reference-4cce66b31b1c7f0abaa4)\n",
    "- 未読[Context APIを活用して、Reduxのstate管理から外したAccordionコンポーネントを作る - Qiita](https://qiita.com/rhirayamaaan/items/d9f7c62c4b5804eba74d#_reference-a799b37f02668b9c7173)"
   ]
  },
  {
   "cell_type": "markdown",
   "metadata": {
    "slideshow": {
     "slide_type": "notes"
    }
   },
   "source": [
    "## reduxっぽいやつ(未完成)\n",
    "\n",
    "- https://qiita.com/zaburo/items/ce46e4a53e23ef210df1\n",
    "\n",
    "```\n",
    "import React from 'react';\n",
    "\n",
    "// store的ななにか\n",
    "const store = new class {\n",
    "  state = {\n",
    "    num: 0\n",
    "  };\n",
    "  actions = fn => {\n",
    "    console.log(this.state);\n",
    "    this.state = fn(this.state);\n",
    "  };\n",
    "  // actions: fn => {\n",
    "  //   this.state = fn(this.state);\n",
    "  // }\n",
    "  // actions: {\n",
    "  //   increment: () => {\n",
    "  //     this.state.num += 1;\n",
    "  //   }\n",
    "  // }\n",
    "}();\n",
    "\n",
    "// contextを作る\n",
    "const CounterContext = React.createContext({ num: 0 });\n",
    "\n",
    "// 親\n",
    "export default class Parent extends React.Component {\n",
    "  render() {\n",
    "    return (\n",
    "      <CounterContext.Provider value={store}>\n",
    "        <p>parenat: {store.state.num}</p>\n",
    "        <p>num</p>\n",
    "        <Child />\n",
    "      </CounterContext.Provider>\n",
    "    );\n",
    "  }\n",
    "}\n",
    "\n",
    "// 子\n",
    "const Child = () => <Grandson />;\n",
    "\n",
    "// 孫\n",
    "// // これはclass\n",
    "class Grandson extends React.Component {\n",
    "  static contextType = CounterContext;\n",
    "  render() {\n",
    "    const { state, actions } = { ...this.context };\n",
    "    console.log(state);\n",
    "    console.log(actions);\n",
    "    return (\n",
    "      <>\n",
    "        <p>{state.num}</p>\n",
    "        <button\n",
    "          onClick={() =>\n",
    "            actions(s => {\n",
    "              // console.log(s);\n",
    "              return {\n",
    "                ...s,\n",
    "                num: s.num + 1\n",
    "              };\n",
    "            })\n",
    "          }\n",
    "        >\n",
    "          increment\n",
    "        </button>\n",
    "      </>\n",
    "    );\n",
    "  }\n",
    "}\n",
    "\n",
    "// Consumer使う版\n",
    "// const Grandson = () => (\n",
    "//   <CounterContext.Consumer>\n",
    "//     {({ state, actions }) => (\n",
    "//       <div>\n",
    "//         <p>{state.num}</p>\n",
    "//         <button\n",
    "//           onClick={() =>\n",
    "//             actions(s => {\n",
    "//               console.log(s);\n",
    "//               return {\n",
    "//                 ...s,\n",
    "//                 num: s.num += 1\n",
    "//               };\n",
    "//             })\n",
    "//           }\n",
    "//         >\n",
    "//           increment\n",
    "//         </button>\n",
    "//       </div>\n",
    "//     )}\n",
    "//   </CounterContext.Consumer>\n",
    "// );\n",
    "```\n"
   ]
  }
 ],
 "metadata": {
  "celltoolbar": "Slideshow",
  "kernelspec": {
   "display_name": "Python 3",
   "language": "python",
   "name": "python3"
  },
  "language_info": {
   "codemirror_mode": {
    "name": "ipython",
    "version": 3
   },
   "file_extension": ".py",
   "mimetype": "text/x-python",
   "name": "python",
   "nbconvert_exporter": "python",
   "pygments_lexer": "ipython3",
   "version": "3.6.1"
  },
  "toc": {
   "nav_menu": {},
   "number_sections": false,
   "sideBar": true,
   "skip_h1_title": false,
   "toc_cell": false,
   "toc_position": {},
   "toc_section_display": "block",
   "toc_window_display": false
  }
 },
 "nbformat": 4,
 "nbformat_minor": 2
}
