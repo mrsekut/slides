{
 "cells": [
  {
   "cell_type": "markdown",
   "metadata": {},
   "source": [
    "- プロセスグループ\n",
    "- セッショングループ\n",
    "\n",
    "### OSからみたプロセス\n",
    "- タスク\n",
    "- プロセスディスクリプタ\n",
    "\n",
    "\n",
    "\n",
    "## シグナル\n",
    "\n",
    "- 用途\n",
    "    - プロセス間通信\n",
    "    - ソフトウェア割り込み\n",
    "\n",
    "- システムコールの逆\n",
    " \n",
    " \n",
    "\n",
    "### シグナルの種類\n",
    "\n",
    "- `man signal`\n",
    " \n",
    " "
   ]
  }
 ],
 "metadata": {
  "kernelspec": {
   "display_name": "Python 3",
   "language": "python",
   "name": "python3"
  },
  "language_info": {
   "codemirror_mode": {
    "name": "ipython",
    "version": 3
   },
   "file_extension": ".py",
   "mimetype": "text/x-python",
   "name": "python",
   "nbconvert_exporter": "python",
   "pygments_lexer": "ipython3",
   "version": "3.6.1"
  },
  "toc": {
   "nav_menu": {},
   "number_sections": true,
   "sideBar": true,
   "skip_h1_title": false,
   "toc_cell": false,
   "toc_position": {},
   "toc_section_display": "block",
   "toc_window_display": false
  }
 },
 "nbformat": 4,
 "nbformat_minor": 2
}
