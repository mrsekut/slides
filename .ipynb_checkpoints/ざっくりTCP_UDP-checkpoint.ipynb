{
 "cells": [
  {
   "cell_type": "markdown",
   "metadata": {
    "slideshow": {
     "slide_type": "slide"
    }
   },
   "source": [
    "# ざっくりTCP/UDP\n",
    "\n",
    "- 2018/9/19勉強会"
   ]
  },
  {
   "cell_type": "markdown",
   "metadata": {
    "slideshow": {
     "slide_type": "slide"
    }
   },
   "source": [
    "## アジェンダ\n",
    "\n",
    "1. TCP/IPモデル\n",
    "1. TCPについて\n",
    "1. UDPについて\n",
    "1. まとめ\n",
    "1. 参考"
   ]
  },
  {
   "cell_type": "markdown",
   "metadata": {
    "slideshow": {
     "slide_type": "slide"
    }
   },
   "source": [
    "## TCP/IPモデル\n",
    "\n",
    "\n",
    "|         レイヤーの名称         |                       用途                       | 代表的なプロトコル |      コンピュータ上の処理      |\n",
    "|:------------------------------:|:------------------------------------------------:|:------------------:|:------------------------------:|\n",
    "|       アプリケーション層       |           アプリケーション間のやりとり           |      HTTP/FTP      | 通信アプリケーションプログラム |\n",
    "|        トランスポート層        |          プログラム間の通信、通信の制御          |    TCP/UDP/QUIC    |               OS               |\n",
    "|        インターネット層        |           インターネットワークでの通信           |         IP         |               OS               |\n",
    "| ネットワークインターフェース層 | 同一ネットワーク上での通信、ハードウェア仕様など |   WiFi, Ethernet   |      デバイスドライバ, NIC     |\n",
    "\n",
    "- OSI参照モデルとは若干違う\n",
    "\n",
    "- 【参考】[TCP/IP 4階層モデルとは？ | Think IT（シンクイット）](https://thinkit.co.jp/story/2015/04/30/5800)"
   ]
  },
  {
   "cell_type": "markdown",
   "metadata": {
    "slideshow": {
     "slide_type": "slide"
    }
   },
   "source": [
    "## TCP(Transmission Control Protocol)について\n",
    "\n",
    "一言で言うと...\n",
    "- 信頼性の高いコネクション型のプロトコル\n"
   ]
  },
  {
   "cell_type": "markdown",
   "metadata": {
    "slideshow": {
     "slide_type": "subslide"
    }
   },
   "source": [
    "### TCPの主な特徴\n",
    "\n",
    "- トランスポート層で動作するプロトコル\n",
    "- 信頼性が高い(後述)\n",
    "- ウィンドウ制御\n",
    "- 輻輳制御\n",
    "- フロー制御\n",
    "- プロトコル上のオーバーヘッドが大きいため、比較的低速\n",
    "- ステートレス\n",
    "- 通信に必要なコストはやや高い\n",
    "- 1対1"
   ]
  },
  {
   "cell_type": "markdown",
   "metadata": {
    "slideshow": {
     "slide_type": "subslide"
    }
   },
   "source": [
    "#### 信頼性が高い とは\n",
    "\n",
    "- 送信したデータが送信した順番で正しく相手にまで届くことが保証されている\n",
    "- 何らかの理由で送信が失敗した場合には自動的に再送信する\n",
    "     - 通信が失敗するトラブルの例\n",
    "         - ネットワークの混雑などの影響で通信経路の途中でパケットが大幅に遅延する\n",
    "         - 負荷分散や経路制御などによって、送信順とは異なる順番で届く\n",
    "         - パケットの一部がエラーで化ける\n",
    "         - ネットワーク機器のリソース不足などでパケットそのものが破棄される\n",
    "- 上記の方法などで確実に相手にデータが届くことを保証する"
   ]
  },
  {
   "cell_type": "markdown",
   "metadata": {},
   "source": [
    "- ウィンドウ制御、再送制御、輻輳制御を行う\n",
    "    - ウィンドウ制御\n",
    "        - ある程度の量のデータをまとめて送信し、それに対して受信確認を1つだけ送る\n",
    "        - 一度に受取可能な最大量を「受信ウィンドウサイズ」という\n",
    "        - 効率が良くなる\n",
    "    - 輻輳制御\n",
    "        - > ネットワーク・ノードの待ち行列バッファが満杯となり、パケットを取りこぼし始める時にネットワーク輻輳が生じる。また、自動再送要求はネットワークの輻輳状態を持続してしまう可能性が有る。この状況はフロー制御にスロースタートを含む輻輳回避を付け加える事で回避できる。これは転送の開始時やパケット再送時に消費する帯域幅を低い水準に維持する。\n",
    "    - フロー制御\n",
    "        - ウィンドウ制御などによって、受信側にデータが大量に来て負荷が高まり処理しきれなくなったときに、受信側はウィンドウサイズを小さくしその値を送り直し、送信してくるデータ量を減らし、また余裕が出てきたらウィンドウサイズを大きくしその値を送って伝える\n",
    "- ★データをストリームとして扱う\n",
    "    - 荷造りまでしてくれる宅急便\n",
    "    - 送ってほしいデータを指定すれば勝手に小分けにして送ってくれる"
   ]
  },
  {
   "cell_type": "markdown",
   "metadata": {
    "slideshow": {
     "slide_type": "subslide"
    }
   },
   "source": [
    "### 用途\n",
    "\n",
    "- World Wide Web\n",
    "- 電子メール\n",
    "- リモート管理\n",
    "- FTP"
   ]
  },
  {
   "cell_type": "markdown",
   "metadata": {
    "slideshow": {
     "slide_type": "slide"
    }
   },
   "source": [
    "## UDP(User Datagram Protocol)について\n",
    "\n",
    "一言で言うと...\n",
    "- 信頼性の低いコネクションレス型のプロトコル"
   ]
  },
  {
   "cell_type": "markdown",
   "metadata": {
    "slideshow": {
     "slide_type": "subslide"
    }
   },
   "source": [
    "### UDPの主な特徴\n",
    "\n",
    "- トランスポート層のプロトコル\n",
    "- 信頼性は低い\n",
    "    - 送受信されるデータの誤りや順序の違いなどを検出する機能がない\n",
    "    - ステートレスである\n",
    "    - 相手に届いてなくても再送信しない\n",
    "    - 相手に正しく届いたかどうかはわからない\n",
    "- 高速性、リアルタイム性\n",
    "- レイテンシ低減を重視したデータグラムサービスを提供\n",
    "- データグラム指向\n",
    "    - コネクションレス型\n",
    "    - データ一方的に送りつける\n",
    "    \n",
    "- 処理が簡単で遅延が少ない\n",
    "- ★データをデータグラムとして扱う\n",
    "\n",
    "- ステートフル\n",
    "- 通信に必要なコストはやや低い\n",
    "- 1対1もしくは1対多\n",
    "    - マルチキャスト\n",
    "    - ブロードキャスト\n",
    "\n",
    "- 3way handshakeなどの機能はない"
   ]
  },
  {
   "cell_type": "markdown",
   "metadata": {
    "slideshow": {
     "slide_type": "subslide"
    }
   },
   "source": [
    "#### マルチキャストとは\n",
    "\n",
    "\n",
    "- リクエスト側の負担を増やすことなく多くのクライアントに同時にデータを送信できる仕組み\n"
   ]
  },
  {
   "cell_type": "markdown",
   "metadata": {
    "slideshow": {
     "slide_type": "subslide"
    }
   },
   "source": [
    "#### 用途\n",
    "- 応答性の良さを優先したい通信\n",
    "- 音声や動画のストリーミングのようなリアルタイム性を重要視する通信\n",
    "    - 少しくらい音が飛んだところで人間の耳では判別できないだろう的な\n",
    "    - そんな気づかないようなことよりも、途切れないことのほうが重要\n",
    "- DNS\n",
    "- DHCP\n",
    "- NTP\n",
    "- SNMP"
   ]
  },
  {
   "cell_type": "markdown",
   "metadata": {
    "slideshow": {
     "slide_type": "slide"
    }
   },
   "source": [
    "## それぞれの通信の手順"
   ]
  },
  {
   "cell_type": "markdown",
   "metadata": {
    "slideshow": {
     "slide_type": "subslide"
    }
   },
   "source": [
    "### TCP\n",
    "\n",
    "- 3ウェイハンドシェイク\n",
    "- 開始時は3RTT\n",
    "\n",
    "\n",
    "- データを送信するたびに「確認応答(ACK: Acknowledge)を返信する」\n",
    "    - 返ってこない場合は再送信する\n",
    "\n",
    "\n",
    "\n",
    "![](http://image.itmedia.co.jp/ait/articles/1612/05/wi-tcpfigure02.png)\n",
    "\n",
    "1. オープンしようとしている側(A)からSYN(TCPの接続要求)を送信\n",
    "2. 待ち受けている側(パッシブオープン側)(B)はSYNに対するACKを送信\n",
    "3. と、同時に、こちら側(B)からもSYNを送信する\n",
    "4. 受け取った側(A)はそのSYNに対するACKを送信してオープン処理が完了する\n",
    "\n",
    "\n",
    "- 処理中\n",
    "1. 送信側「今からデータ送る。ココ(100)から送り始めて、サイズはコレくらい\n",
    "2. 受信側「おっけー、次はこのデータ(101)からってことやな\n",
    "\n",
    "- ACKによって、届いていることと、データ量を認識してもらえる\n",
    "\n",
    "\n",
    "\n",
    "- 切断時は4RTT\n",
    "1. FIN + ACK\n",
    "2. ACK\n",
    "3. FIN + ACK\n",
    "4. ACK"
   ]
  },
  {
   "cell_type": "markdown",
   "metadata": {},
   "source": []
  },
  {
   "cell_type": "markdown",
   "metadata": {
    "slideshow": {
     "slide_type": "subslide"
    }
   },
   "source": [
    "### UDP"
   ]
  },
  {
   "cell_type": "markdown",
   "metadata": {
    "slideshow": {
     "slide_type": "slide"
    }
   },
   "source": [
    "## それぞれのヘッダの中身"
   ]
  },
  {
   "cell_type": "markdown",
   "metadata": {
    "slideshow": {
     "slide_type": "subslide"
    }
   },
   "source": [
    "### TCPヘッダ\n",
    "![](https://www.infraexpert.com/studygif/tcpip23.gif)\n",
    "\n",
    "\n",
    "- シーケンス番号\n",
    "    - 受信側で順番通りにパケットが来ているかを判断する\n",
    "    - バラバラに届いてもココを見れば順番を正すことができる\n",
    "    - 初期値はランダムに設定され、その後は連番\n",
    "        - TCPシーケンス番号予測攻撃という割り込み送信を防ぐため\n",
    "- コントロールフラグ\n",
    "    - ACK, SYN, FINなど\n",
    "- ウィンドウサイズ\n",
    "    - o\n",
    "    \n",
    "    \n",
    "- wikiのTCPところを見るとフラグの数が増えてて9bit使ってた\n",
    "\n",
    "- 【画像引用元】[TCP/IP - TCPとは - TCPヘッダ](https://www.infraexpert.com/study/tcpip8.html)"
   ]
  },
  {
   "cell_type": "markdown",
   "metadata": {
    "slideshow": {
     "slide_type": "subslide"
    }
   },
   "source": [
    "### UDPへっだ　\n",
    "- TCPのヘッダが20byteだったのに比べ、UDPヘッダは8byte\n",
    "- その分アプリケーションのデータを多く送受信できる\n",
    "\n",
    "![](https://www.infraexpert.com/studygif/tcpip33.gif)\n",
    "\n",
    "- 4つの要素しかない\n",
    "\n",
    "\n",
    "- 【画像引用元】[TCP/IP - UDPとは](https://www.infraexpert.com/study/tcpip12.html)\n",
    "\n",
    "\n"
   ]
  },
  {
   "cell_type": "markdown",
   "metadata": {
    "slideshow": {
     "slide_type": "notes"
    }
   },
   "source": [
    "## TCP\n",
    "\n",
    "- コネクション型プロトコル\n",
    "\n",
    "    \n",
    "- TCP/IPの特徴としてあげられていたもの\n",
    "    - https://www.nic.ad.jp/ja/newsletter/No67/0320.html\n",
    "    - オープン\n",
    "        - TCP/IP規格そのものを誰でも無償で自由に参照できる\n",
    "    - パケット通信\n",
    "        - パケット単位で通信する\n",
    "        - 一つの回線を複数の通信で同時に使えるので回線の利用効率があがる\n",
    "        - ネットワークそのものの堅牢性も上がる\n",
    "        - デメリットは通信を制御するためのオーバーヘッドが大きい\n",
    "        - 帯域保証が難しい(どういういみ\n",
    "    - エンドツーエンド\n",
    "        - 複雑なことはなるべく端末側に任し、ネットワークはシンプルに保つ\n",
    "    - シンプル\n",
    "    \n",
    "### コントロールフラグ\n",
    "- URG\n",
    "- ACK\n",
    "- PSH\n",
    "- RST\n",
    "- SYN\n",
    "- FIN\n",
    "https://www.infraexpert.com/study/tcpip8.html\n",
    "\n",
    "\n",
    "\n",
    "\n",
    "### ステートフル性\n",
    "![](http://image.itmedia.co.jp/ait/articles/1612/05/wi-tcpfigure05.png)\n",
    "\n",
    "\n",
    "\n",
    "\n"
   ]
  },
  {
   "cell_type": "markdown",
   "metadata": {},
   "source": [
    "## TCP/IPモデル\n",
    "\n",
    "1. アプリケーション層←HTTPとか？\n",
    "2. トランスポート層←(tcp/udp)\n",
    "3. インターネット層←(ip)\n",
    "4. ネットワークインターフェース層\n",
    "\n",
    "\n",
    "### 両方共に言えること\n",
    "\n",
    "- コンピュータ同士の通信をするとき以下のことなどを考慮する必要がある\n",
    "    - データの損失\n",
    "    - 消失\n",
    "    - 重複や遅延\n",
    "    - 到着順序のズレ"
   ]
  },
  {
   "cell_type": "markdown",
   "metadata": {},
   "source": [
    "## 違い\n",
    "\n",
    "### よく例えられるもの\n",
    "\n",
    "- TCP vs UDP\n",
    "- 電話と手紙\n",
    "- 恋人同士のLINEと夫婦同士のLINE\n",
    "\n",
    "![](https://pbs.twimg.com/media/DnY3iMbUAAA5IDe.jpg)\n",
    "\n",
    "![](https://pbs.twimg.com/media/DnY6Zv4UAAASD-V.jpg)\n",
    "\n",
    "\n",
    "![](https://pbs.twimg.com/media/DnRUq0yXgAEkmZo.jpg:large)"
   ]
  },
  {
   "cell_type": "markdown",
   "metadata": {},
   "source": [
    "## どんなふうに実装されていいるの？\n",
    "\n",
    "- 言語とか\n",
    "- そもそもコードなん？"
   ]
  },
  {
   "cell_type": "markdown",
   "metadata": {},
   "source": [
    "## netstatコマンド\n",
    "\n",
    "- http://www.atmarkit.co.jp/ait/articles/0207/20/news003.html\n",
    "\n",
    "- 通信中のTCPコネクションの状態を表示させる\n",
    "- TCPはステートフル性\n"
   ]
  },
  {
   "cell_type": "markdown",
   "metadata": {
    "slideshow": {
     "slide_type": "notes"
    }
   },
   "source": [
    "# Unixドメインソケット\n",
    "\n",
    "- POSIX系OSで提供されている機能\n",
    "- コンピュータ内部でしか使えない\n",
    "- 高速な通信が可能\n",
    "- TCP型、UDP型両方の使い方ができる"
   ]
  },
  {
   "cell_type": "markdown",
   "metadata": {
    "slideshow": {
     "slide_type": "slide"
    }
   },
   "source": [
    "# さんこう\n",
    "\n",
    "- Goならわかるシステムプログラミング 5,6,7章\n",
    "\n",
    "- http://gihyo.jp/admin/serial/01/net_prac_tech/0007\n",
    "    - 宅急便のたとえ\n",
    "- http://www.atmarkit.co.jp/ait/articles/1612/05/news030.html\n",
    "    - TCPについて。仕組みなど結構詳しめ\n",
    "- https://www.infraexpert.com/study/tcpip12.html\n",
    "    - UDPについて\n",
    "- https://www.slideshare.net/yhonjo/tcpudp-81640025\n",
    "    - 詳しいスライド"
   ]
  },
  {
   "cell_type": "markdown",
   "metadata": {
    "slideshow": {
     "slide_type": "notes"
    }
   },
   "source": [
    "# キーワード\n",
    "\n",
    "- ipv6\n",
    "- hateoas\n",
    "- QUIC\n",
    "- ベストエフォート型\n",
    "- イーサネット\n",
    "- DTLS\n",
    "    - UDPを暗号化するプロトコル？\n",
    "- ARP\n",
    "    - `arp -a`"
   ]
  }
 ],
 "metadata": {
  "celltoolbar": "Slideshow",
  "kernelspec": {
   "display_name": "Python 3",
   "language": "python",
   "name": "python3"
  },
  "language_info": {
   "codemirror_mode": {
    "name": "ipython",
    "version": 3
   },
   "file_extension": ".py",
   "mimetype": "text/x-python",
   "name": "python",
   "nbconvert_exporter": "python",
   "pygments_lexer": "ipython3",
   "version": "3.6.1"
  },
  "toc": {
   "nav_menu": {},
   "number_sections": false,
   "sideBar": true,
   "skip_h1_title": false,
   "toc_cell": false,
   "toc_position": {},
   "toc_section_display": "block",
   "toc_window_display": false
  }
 },
 "nbformat": 4,
 "nbformat_minor": 2
}
