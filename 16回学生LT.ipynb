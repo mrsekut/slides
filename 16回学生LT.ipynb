{
 "cells": [
  {
   "cell_type": "markdown",
   "metadata": {
    "heading_collapsed": true,
    "slideshow": {
     "slide_type": "slide"
    }
   },
   "source": [
    "# 第16回 学生エンジニアLT大会 in 大阪\n",
    "\n",
    "丸末皓太"
   ]
  },
  {
   "cell_type": "markdown",
   "metadata": {
    "slideshow": {
     "slide_type": "slide"
    }
   },
   "source": [
    "# なんで発表しようと思ったか\n",
    "\n",
    "- 技術系の会話を楽しめる知り合いを増やしたい\n",
    "- 強い学生に会いたい\n",
    "- めっちゃ駆け足で自己紹介します"
   ]
  },
  {
   "cell_type": "markdown",
   "metadata": {
    "slideshow": {
     "slide_type": "notes"
    }
   },
   "source": [
    "\n",
    "- 初参加\n",
    "- 他の人がいつもどんなことを発表してるのか知らない\n",
    "- "
   ]
  },
  {
   "cell_type": "markdown",
   "metadata": {
    "slideshow": {
     "slide_type": "slide"
    }
   },
   "source": [
    "# 自己紹介\n",
    "\n",
    "- 丸末皓太\n",
    "- mrsekut\n",
    "- 大阪府立大学 2回 工学　電気電子　数理システム課\n",
    "- 休学中\n",
    "\n",
    "- 飽きやすく興味が移りやすい\n"
   ]
  },
  {
   "cell_type": "markdown",
   "metadata": {
    "slideshow": {
     "slide_type": "subslide"
    }
   },
   "source": [
    "![mrsekut](https://github.com/mrsekut/myStorage/blob/master/img/mrsekut_circle.png?raw=true)\n",
    "### twitter\n",
    "\n",
    "- @mrsekut\n",
    "\n",
    "### github\n",
    "\n",
    "- mrsekut\n",
    "\n",
    "### blog\n",
    "\n",
    "- https://mrsekut.site\n",
    "\n",
    "\n"
   ]
  },
  {
   "cell_type": "markdown",
   "metadata": {
    "slideshow": {
     "slide_type": "slide"
    }
   },
   "source": [
    "# 興味の変遷\n",
    "\n",
    "\n",
    "\n",
    "#### mrsekut"
   ]
  },
  {
   "cell_type": "markdown",
   "metadata": {
    "slideshow": {
     "slide_type": "slide"
    }
   },
   "source": [
    "## 大学1年生(一昨年)\n",
    "\n",
    "- プログラミング始める\n",
    "- C言語、vimエディタ\n",
    "    - 選択肢多くてよくわからんから、難しそうなの選んだ\n",
    "- 秋頃にProgateを見つける\n",
    "    - HTML, CSS, JS\n",
    "    - Python, Ruby\n",
    "    - 特に作りたいものもなかったので一通り触ってた\n",
    "    \n",
    "#### mrsekut"
   ]
  },
  {
   "cell_type": "markdown",
   "metadata": {
    "slideshow": {
     "slide_type": "slide"
    }
   },
   "source": [
    "## 大学2年生(去年)\n",
    "\n",
    "- アプリ作成(後述)\n",
    "- 機械学習(後述)\n",
    "- 外部イベントに参加し始める\n",
    "    - ハッカソン(XR, 電子工作, etc.)\n",
    "    - JS,AIなどの勉強会(LTなど)\n",
    "    - 論文輪読会\n",
    "\n",
    "#### mrsekut"
   ]
  },
  {
   "cell_type": "markdown",
   "metadata": {
    "slideshow": {
     "slide_type": "subslide"
    }
   },
   "source": [
    "### アプリ作成\n",
    "\n",
    "- OpulencyAlert \n",
    "    - 府大生向けのiOS,Androidアプリ\n",
    "    - 公式の連絡機構が微妙なので自分で作った\n",
    "    - 公開2ヶ月前くらいに知恵袋機能も加えた\n",
    "![](https://github.com/mrsekut/slides/blob/master/img/s_opulency.png?raw=true)"
   ]
  },
  {
   "cell_type": "markdown",
   "metadata": {
    "slideshow": {
     "slide_type": "subslide"
    }
   },
   "source": [
    "### 中身\n",
    "- monaca\n",
    "- jQuery\n",
    "    - 一度作りきったが、\n",
    "    - jQueryオワコン感説があったのでやめた\n",
    "- React, Redux\n",
    "    - 3大フレームワークの中から一番難しそうなの選んだ\n",
    "\n",
    "### 2018年の4月にリリース\n",
    "\n",
    "- 一人で作りきった\n",
    "- 2週間で500人に登録してもらった\n",
    "- モチベおわったので開発終了した"
   ]
  },
  {
   "cell_type": "markdown",
   "metadata": {
    "slideshow": {
     "slide_type": "subslide"
    }
   },
   "source": [
    "### 機械学習\n",
    "\n",
    "- 「ゼロから作るディープラーニング」\n",
    "    - 勉強会\n",
    "- numpy,pandasなどのPythonライブラリ\n",
    "- Keras,TensorFlowなどのAIフレームワーク\n",
    "- DeepLearning以外の機械学習\n",
    "\n",
    "\n",
    "#### mrsekut"
   ]
  },
  {
   "cell_type": "markdown",
   "metadata": {
    "slideshow": {
     "slide_type": "slide"
    }
   },
   "source": [
    "## 今年1\n",
    "\n",
    "- 人生に迷って休学してみた\n",
    "- データサイエンスの会社でインターン\n",
    "    - Pythonを用いた並列処理の技術調査\n",
    "    - Flaskでメールサーバーつくった\n",
    "    - テストコードかいた\n",
    "    - 強い人からいろいろ学んだ\n",
    "- ロボットを作っている向上でバイト\n",
    "    - KerasのVGGを使った不良品判定\n",
    "    - CI環境構築\n",
    "        - Gitlab CIとか"
   ]
  },
  {
   "cell_type": "markdown",
   "metadata": {
    "slideshow": {
     "slide_type": "subslide"
    }
   },
   "source": [
    "## 今年2\n",
    "\n",
    "- アプリ作ってるベンチャーに参加(なう)\n",
    "    - 主にフロントエンドを担当\n",
    "    - React, TypeScript\n",
    "    - 共同開発\n",
    "    - テスト\n",
    "    - ベンチャー　#とは\n",
    "    - 週1の勉強会(後述)\n",
    "    - 神\n",
    "    \n",
    "#### mrsekut"
   ]
  },
  {
   "cell_type": "markdown",
   "metadata": {
    "slideshow": {
     "slide_type": "subslide"
    }
   },
   "source": [
    "### さわReactのキーワード\n",
    "\n",
    "- React\n",
    "- TypeScript\n",
    "- Redux\n",
    "- Flux\n",
    "- styled-components\n",
    "- storybook\n",
    "- redux-saga\n",
    "- recompose\n",
    "- Ramda\n",
    "- React Native\n",
    "- Jest\n",
    "- enzyme\n",
    "- Atomic Design"
   ]
  },
  {
   "cell_type": "markdown",
   "metadata": {
    "slideshow": {
     "slide_type": "subslide"
    }
   },
   "source": [
    "## 週1の勉強会\n",
    "\n",
    "### 今までに発表したこと\n",
    "- 関数型プログラミングとは\n",
    "- Pythonでプロセスをforkしてみる\n",
    "- Basic認証、Digest認証をGoで実装して理解する\n",
    "- HTTP/2の概要\n",
    "- ファイルディスクリプタとシステムコールについて\n",
    "- etc\n",
    "\n",
    "### 他の人\n",
    "- Dockerの内部実装\n",
    "- AWS\n",
    "- アジャイル,DDD\n",
    "- ソフトウェアアーキテクチャ, デザインパターン\n",
    "- オブジェクト指向\n",
    "- XSSを試してみる\n"
   ]
  },
  {
   "cell_type": "markdown",
   "metadata": {
    "slideshow": {
     "slide_type": "slide"
    }
   },
   "source": [
    "# 最近の関心(できるとは言ってない)\n",
    "\n",
    "- Haskell\n",
    "- Rust\n",
    "- Go\n",
    "- パフォーマンス\n",
    "- テスト\n",
    "- ネットワーク\n",
    "- Linuxカーネルに近い部分\n",
    "- 言語そのものの設計思想\n",
    "- ネイティブアプリ\n",
    "- etc."
   ]
  },
  {
   "cell_type": "markdown",
   "metadata": {
    "slideshow": {
     "slide_type": "slide"
    }
   },
   "source": [
    "# おわり\n",
    "\n",
    "- 話しかけてください！！！！！！"
   ]
  }
 ],
 "metadata": {
  "celltoolbar": "Slideshow",
  "kernelspec": {
   "display_name": "Python 3",
   "language": "python",
   "name": "python3"
  },
  "language_info": {
   "codemirror_mode": {
    "name": "ipython",
    "version": 3
   },
   "file_extension": ".py",
   "mimetype": "text/x-python",
   "name": "python",
   "nbconvert_exporter": "python",
   "pygments_lexer": "ipython3",
   "version": "3.6.1"
  },
  "toc": {
   "nav_menu": {},
   "number_sections": false,
   "sideBar": true,
   "skip_h1_title": false,
   "toc_cell": false,
   "toc_position": {},
   "toc_section_display": "block",
   "toc_window_display": false
  }
 },
 "nbformat": 4,
 "nbformat_minor": 2
}
