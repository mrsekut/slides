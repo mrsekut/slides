{
 "cells": [
  {
   "cell_type": "code",
   "execution_count": null,
   "metadata": {},
   "outputs": [],
   "source": []
  },
  {
   "cell_type": "markdown",
   "metadata": {},
   "source": [
    "#  同期・非同期とブロッキング・ノンブロッキングによる分類"
   ]
  },
  {
   "cell_type": "markdown",
   "metadata": {},
   "source": [
    "## 同期・非同期処理\n",
    "\n",
    "- 実データを取りに行くのか、通知をもらうのかの違い\n",
    "\n",
    "### 同期処理\n",
    "- OSにI/Oタスクを投げて、入出力の準備ができたらアプリケーションが返ってくる\n",
    "- あるタスクが実行している間、他のタスクの処理は中断される\n",
    "\n",
    "### 非同期処理\n",
    "- OSにI/Oタスクを投げて、入出力の準備ができたら通知をもらう\n",
    "- あるタスクが実行している間も、他のタスクの処理を実行し続けられる"
   ]
  },
  {
   "cell_type": "markdown",
   "metadata": {},
   "source": [
    "## ブロッキング・ノンブロッキング\n",
    "\n",
    "- 処理の結果の受け取り方の違い\n",
    "\n",
    "### ブロッキング処理\n",
    "- お願いしたI/Oタスクの結果の準備ができるまで待つ\n",
    "- 自分は停止\n",
    "\n",
    "### ノンブロッキング処理\n",
    "- お願いしたI/Oタスクの結果の準備ができるのを待たない\n",
    "- 自分は停止しない\n"
   ]
  },
  {
   "cell_type": "markdown",
   "metadata": {},
   "source": [
    "## システムコールの分類\n",
    "\n",
    "\n",
    "![](https://www.ibm.com/developerworks/linux/library/l-async/figure1.gif)\n",
    "【画像引用元】https://www.ibm.com/developerworks/linux/library/l-async/\n"
   ]
  },
  {
   "cell_type": "markdown",
   "metadata": {},
   "source": [
    "### 同期・ブロッキング\n",
    "\n",
    "- read,write\n",
    "- 処理が完了するまでの間、何もせずに待つ\n",
    "- 重いのがあるとそこで止まる\n",
    "    \n",
    "![](https://www.ibm.com/developerworks/linux/library/l-async/figure2.gif)\n",
    "\n",
    "- 同期的→片一方でしか処理を実行できない\n",
    "- ブロッキング的→処理が移っている間は待機"
   ]
  },
  {
   "cell_type": "markdown",
   "metadata": {},
   "source": [
    "### 同期・ノンブロッキング\n",
    "\n",
    "- フラグ付きread,write\n",
    "    - ファイルオープン時にノンブロッキングのフラグを付与する\n",
    "- 聞いたタイミングで終わってるかどうかを教えてくれる\n",
    "- ポーリングする\n",
    "![](https://www.ibm.com/developerworks/linux/library/l-async/figure3.gif)\n",
    "    \n",
    "\n",
    "- 同期的→片一方でしか処理を実行できない\n",
    "- ノンブロッキング的→アプリケーション側から「まだ？」と聞いている"
   ]
  },
  {
   "cell_type": "markdown",
   "metadata": {},
   "source": [
    "### 非同期・ブロッキング\n",
    "\n",
    "- I/O多重化\n",
    "    - select, pollシステムコールを使う\n",
    "    \n",
    "    \n",
    "![](https://www.ibm.com/developerworks/linux/library/l-async/figure4.gif)\n",
    "\n",
    "- 非同期的→両方の処理が動いている部分がある\n",
    "- ブロッキング的→処理が移っている間は待機(?)"
   ]
  },
  {
   "cell_type": "markdown",
   "metadata": {},
   "source": [
    "## 非同期・ノンブロッキング\n",
    "\n",
    "\n",
    "- aio\n",
    "    \n",
    "![](https://www.ibm.com/developerworks/linux/library/l-async/figure5.gif)"
   ]
  },
  {
   "cell_type": "markdown",
   "metadata": {},
   "source": [
    "\n",
    "\n",
    "## select属のシステムコールによるI/O多重化\n"
   ]
  },
  {
   "cell_type": "markdown",
   "metadata": {},
   "source": [
    "# 参考(全部未読)\n",
    "\n",
    "- https://qiita.com/kimullaa/items/c083757078406da17825\n",
    "- https://qiita.com/kencharos/items/2ad090e7a6b7e9664f04\n",
    "- http://keens.github.io/blog/2017/05/19/hidoukitononburokkingutoatonanika/\n",
    "- http://blog.matsumoto-r.jp/?p=2030\n",
    "- http://alexei-karamazov.hatenablog.com/entry/2014/04/18/170938"
   ]
  },
  {
   "cell_type": "markdown",
   "metadata": {},
   "source": []
  },
  {
   "cell_type": "markdown",
   "metadata": {},
   "source": []
  }
 ],
 "metadata": {
  "kernelspec": {
   "display_name": "Python 3",
   "language": "python",
   "name": "python3"
  },
  "language_info": {
   "codemirror_mode": {
    "name": "ipython",
    "version": 3
   },
   "file_extension": ".py",
   "mimetype": "text/x-python",
   "name": "python",
   "nbconvert_exporter": "python",
   "pygments_lexer": "ipython3",
   "version": "3.6.1"
  },
  "toc": {
   "nav_menu": {},
   "number_sections": true,
   "sideBar": true,
   "skip_h1_title": false,
   "toc_cell": false,
   "toc_position": {},
   "toc_section_display": "block",
   "toc_window_display": false
  }
 },
 "nbformat": 4,
 "nbformat_minor": 2
}
